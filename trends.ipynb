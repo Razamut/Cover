{
 "cells": [
  {
   "cell_type": "code",
   "execution_count": 55,
   "metadata": {
    "collapsed": true
   },
   "outputs": [],
   "source": [
    "import numpy as np\n",
    "import openpyxl\n",
    "import xlrd\n",
    "from pandas import DataFrame as DF\n",
    "from pandas import read_csv, merge, read_excel\n",
    "import matplotlib.pyplot as plt\n",
    "%matplotlib inline\n",
    "import datetime as dt\n",
    "import os\n",
    "import re"
   ]
  },
  {
   "cell_type": "code",
   "execution_count": 2,
   "metadata": {
    "collapsed": true
   },
   "outputs": [],
   "source": [
    "def make_float(data):\n",
    "    new_data = []\n",
    "    for obj in data:\n",
    "        try:\n",
    "            obj = float(obj)\n",
    "        except:\n",
    "            obj = np.nan\n",
    "        new_data.append(obj)\n",
    "    return new_data"
   ]
  },
  {
   "cell_type": "code",
   "execution_count": 7,
   "metadata": {},
   "outputs": [],
   "source": [
    "ipath = 'data/'\n",
    "opath = 'output/'\n",
    "\n",
    "tody = str(dt.datetime.today().date())\n",
    "\n",
    "ofoldr = opath + tody + '/'"
   ]
  },
  {
   "cell_type": "code",
   "execution_count": 8,
   "metadata": {},
   "outputs": [
    {
     "name": "stdout",
     "output_type": "stream",
     "text": [
      "exists\n"
     ]
    }
   ],
   "source": [
    "if os.path.exists(ofoldr):\n",
    "    print('exists')\n",
    "else:\n",
    "    print('does not exist, and making folder')\n",
    "    os.mkdir(ofoldr)"
   ]
  },
  {
   "cell_type": "markdown",
   "metadata": {},
   "source": [
    "### load loan and payment data"
   ]
  },
  {
   "cell_type": "code",
   "execution_count": 23,
   "metadata": {
    "collapsed": true
   },
   "outputs": [],
   "source": [
    "ipath = 'data/'\n",
    "opath = 'output/' + tody + '/'"
   ]
  },
  {
   "cell_type": "code",
   "execution_count": 24,
   "metadata": {},
   "outputs": [
    {
     "name": "stdout",
     "output_type": "stream",
     "text": [
      "collections.xlsx  loans.xlsx        payments.xlsx\r\n"
     ]
    }
   ],
   "source": [
    "ls data/"
   ]
  },
  {
   "cell_type": "code",
   "execution_count": 25,
   "metadata": {},
   "outputs": [
    {
     "data": {
      "text/plain": [
       "'output/2018-01-06/'"
      ]
     },
     "execution_count": 25,
     "metadata": {},
     "output_type": "execute_result"
    }
   ],
   "source": [
    "opath"
   ]
  },
  {
   "cell_type": "code",
   "execution_count": 26,
   "metadata": {},
   "outputs": [
    {
     "name": "stdout",
     "output_type": "stream",
     "text": [
      "collection_summary.png      ttl_ld_pf_amt.png\r\n",
      "current_status.xlsx         ttl_pf_amt.png\r\n",
      "disbursed_by_loan_type.csv  ttl_usd_pf_amt.png\r\n",
      "payment_2018-01-06.xlsx\r\n"
     ]
    }
   ],
   "source": [
    "ls output/2018-01-06/"
   ]
  },
  {
   "cell_type": "code",
   "execution_count": 57,
   "metadata": {},
   "outputs": [],
   "source": [
    "ifile = ipath + 'loans.xlsx'\n",
    "\n",
    "lns = read_excel(ifile)"
   ]
  },
  {
   "cell_type": "code",
   "execution_count": 62,
   "metadata": {},
   "outputs": [
    {
     "data": {
      "text/plain": [
       "id                      int64\n",
       "loan_id                object\n",
       "loan_type              object\n",
       "amt_requested          object\n",
       "loan_amt_usd          float64\n",
       "loan_amt_ld           float64\n",
       "rate                  float64\n",
       "interest_ld           float64\n",
       "interest_usd          float64\n",
       "duration_month        float64\n",
       "status                 object\n",
       "take_out_dt            object\n",
       "loan_plus_intr_ld     float64\n",
       "loan_plus_intr_usd    float64\n",
       "dtype: object"
      ]
     },
     "execution_count": 62,
     "metadata": {},
     "output_type": "execute_result"
    }
   ],
   "source": [
    "lns.dtypes"
   ]
  },
  {
   "cell_type": "code",
   "execution_count": 76,
   "metadata": {},
   "outputs": [],
   "source": [
    "def strip_punct(s):\n",
    "    return re.sub(r'\\'|\\`', '', str(s))\n",
    "\n",
    "lns.take_out_dt = lns.take_out_dt.apply(strip_punct)"
   ]
  },
  {
   "cell_type": "code",
   "execution_count": 77,
   "metadata": {},
   "outputs": [
    {
     "data": {
      "text/plain": [
       "'2017-09-21'"
      ]
     },
     "execution_count": 77,
     "metadata": {},
     "output_type": "execute_result"
    }
   ],
   "source": [
    "strip_punct(\"2017-09-21`\")"
   ]
  },
  {
   "cell_type": "code",
   "execution_count": 79,
   "metadata": {
    "collapsed": true
   },
   "outputs": [],
   "source": [
    "appr_lns = DF( lns.loc[lns.status == 'approved'])\n",
    "appr_lns.index = range(appr_lns.shape[0])"
   ]
  },
  {
   "cell_type": "code",
   "execution_count": 80,
   "metadata": {},
   "outputs": [],
   "source": [
    "ifile = opath + 'payment_' + tody + '.xlsx'\n",
    "\n",
    "pmt = read_excel(ifile)"
   ]
  },
  {
   "cell_type": "code",
   "execution_count": 81,
   "metadata": {},
   "outputs": [
    {
     "data": {
      "text/plain": [
       "(58, 14)"
      ]
     },
     "execution_count": 81,
     "metadata": {},
     "output_type": "execute_result"
    }
   ],
   "source": [
    "appr_lns.shape"
   ]
  },
  {
   "cell_type": "code",
   "execution_count": 82,
   "metadata": {},
   "outputs": [
    {
     "data": {
      "text/plain": [
       "(131, 9)"
      ]
     },
     "execution_count": 82,
     "metadata": {},
     "output_type": "execute_result"
    }
   ],
   "source": [
    "pmt.shape"
   ]
  },
  {
   "cell_type": "code",
   "execution_count": 83,
   "metadata": {},
   "outputs": [
    {
     "data": {
      "text/plain": [
       "(76, 14)"
      ]
     },
     "execution_count": 83,
     "metadata": {},
     "output_type": "execute_result"
    }
   ],
   "source": [
    "lns.shape"
   ]
  },
  {
   "cell_type": "code",
   "execution_count": 84,
   "metadata": {},
   "outputs": [
    {
     "data": {
      "text/plain": [
       "Index(['id', 'loan_id', 'loan_type', 'amt_requested', 'loan_amt_usd',\n",
       "       'loan_amt_ld', 'rate', 'interest_ld', 'interest_usd', 'duration_month',\n",
       "       'status', 'take_out_dt', 'loan_plus_intr_ld', 'loan_plus_intr_usd'],\n",
       "      dtype='object')"
      ]
     },
     "execution_count": 84,
     "metadata": {},
     "output_type": "execute_result"
    }
   ],
   "source": [
    "appr.columns"
   ]
  },
  {
   "cell_type": "code",
   "execution_count": 85,
   "metadata": {},
   "outputs": [
    {
     "data": {
      "text/plain": [
       "Index(['id', 'loan_id', 'loan_plus_intr_usd', 'loan_plus_intr_ld',\n",
       "       'payment_dt', 'payment_amt_usd', 'payment_amt_ld', 'loan_bal_usd',\n",
       "       'loan_bal_ld'],\n",
       "      dtype='object')"
      ]
     },
     "execution_count": 85,
     "metadata": {},
     "output_type": "execute_result"
    }
   ],
   "source": [
    "pmt.columns"
   ]
  },
  {
   "cell_type": "code",
   "execution_count": 86,
   "metadata": {
    "collapsed": true
   },
   "outputs": [],
   "source": [
    "# # uncomment and run to fix data types in loan data\n",
    "# float_cols = ['loan_amt_usd', 'loan_amt_ld', 'rate', 'interest_ld', 'interest_usd',  \n",
    "#               'loan_plus_intr_ld', 'loan_plus_intr_usd']\n",
    "# for col in float_cols:\n",
    "#     loan[col] = make_float(appr[col])"
   ]
  },
  {
   "cell_type": "code",
   "execution_count": 87,
   "metadata": {
    "collapsed": true
   },
   "outputs": [],
   "source": [
    "# # uncomment and run to fix data types in payment data\n",
    "# float_cols = ['loan_plus_intr_usd', 'loan_plus_intr_ld', 'payment_amt_usd', 'payment_amt_ld', \n",
    "#               'loan_bal_usd','loan_bal_ld']\n",
    "# for col in float_cols:\n",
    "#     pmt[col] = make_float(pmt[col])"
   ]
  },
  {
   "cell_type": "code",
   "execution_count": 90,
   "metadata": {
    "collapsed": true
   },
   "outputs": [],
   "source": [
    "def get_monthly_data(data, year, month, date_col_name, date_range=None,  loan_ids=None):\n",
    "    year = int(year)\n",
    "    month = int(month)\n",
    "    if date_col_name == 'take_out_dt':\n",
    "        status_cond = np.array([str(val).startswith('appr') for val in data.status])\n",
    "        if date_range is None:        \n",
    "            dt_cond = np.array([(dt.datetime.strptime(val, '%Y-%m-%d').year == year) & \n",
    "                                 (dt.datetime.strptime(val, '%Y-%m-%d').month == month) if isinstance(val, str) and \n",
    "                                len(val) >= 6 else False for val in data[date_col_name]])\n",
    "\n",
    "        elif date_range.lower() == 'ytd':\n",
    "            dt_cond = np.array([(dt.datetime.strptime(val, '%Y-%m-%d').year == year) & \n",
    "                                 (dt.datetime.strptime(val, '%Y-%m-%d').month <= month) if isinstance(val, str) and len(val) >= 6 else False for val \n",
    "                       in data[date_col_name]])\n",
    "        elif date_range.lower() == 'total':\n",
    "            dt_cond = np.array([(dt.datetime.strptime(val, '%Y-%m-%d').year <= year) if isinstance(val, str) and len(val) >= 6 else False for val \n",
    "                       in data[date_col_name]])\n",
    "        mthly_data = DF(data.loc[(dt_cond) & (status_cond)])\n",
    "    elif date_col_name == 'payment_dt':\n",
    "        dt_len = 6 #min length of date\n",
    "        if date_range is None:\n",
    "            dt_cond = np.array([(dt.datetime.strptime(val, '%Y-%m-%d').year == year) & \n",
    "                                 (dt.datetime.strptime(val, '%Y-%m-%d').month <= month) if isinstance(val, str) and len(val) >= dt_len else False for val \n",
    "                       in data[date_col_name]])\n",
    "        elif date_range.lower() == 'ytd':\n",
    "            dt_cond = np.array([(dt.datetime.strptime(val, '%Y-%m-%d').year == year) & \n",
    "                                 (dt.datetime.strptime(val, '%Y-%m-%d').month <= month) if isinstance(val, str) and len(val) >= 6 else False for val \n",
    "                       in data[date_col_name]])\n",
    "        elif date_range.lower() == 'total':\n",
    "            dt_cond = np.array([(dt.datetime.strptime(val, '%Y-%m-%d').year <= year) if isinstance(val, str) and len(val) >= 6 else False for val \n",
    "                       in data[date_col_name]])\n",
    "        mthly_data = DF(data.loc[dt_cond])\n",
    "    if mthly_data.shape[0] > 0:\n",
    "        mthly_data.index = range(mthly_data.shape[0])\n",
    "            \n",
    "    return mthly_data\n",
    "\n",
    "def get_monthly_disb_loans(data, year, month, date_col_name, currency, date_range=None):\n",
    "    monthly_data = get_monthly_data(data, year, month, date_col_name, date_range=date_range)\n",
    "    if currency.lower() == 'ld':\n",
    "        loan = monthly_data.loan_amt_ld.sum()\n",
    "    elif currency.lower() == 'usd':\n",
    "        loan = monthly_data.loan_amt_usd.sum()\n",
    "    return loan"
   ]
  },
  {
   "cell_type": "code",
   "execution_count": 92,
   "metadata": {},
   "outputs": [
    {
     "data": {
      "text/html": [
       "<div>\n",
       "<style>\n",
       "    .dataframe thead tr:only-child th {\n",
       "        text-align: right;\n",
       "    }\n",
       "\n",
       "    .dataframe thead th {\n",
       "        text-align: left;\n",
       "    }\n",
       "\n",
       "    .dataframe tbody tr th {\n",
       "        vertical-align: top;\n",
       "    }\n",
       "</style>\n",
       "<table border=\"1\" class=\"dataframe\">\n",
       "  <thead>\n",
       "    <tr style=\"text-align: right;\">\n",
       "      <th></th>\n",
       "      <th>id</th>\n",
       "      <th>loan_id</th>\n",
       "      <th>loan_type</th>\n",
       "      <th>amt_requested</th>\n",
       "      <th>loan_amt_usd</th>\n",
       "      <th>loan_amt_ld</th>\n",
       "      <th>rate</th>\n",
       "      <th>interest_ld</th>\n",
       "      <th>interest_usd</th>\n",
       "      <th>duration_month</th>\n",
       "      <th>status</th>\n",
       "      <th>take_out_dt</th>\n",
       "      <th>loan_plus_intr_ld</th>\n",
       "      <th>loan_plus_intr_usd</th>\n",
       "    </tr>\n",
       "  </thead>\n",
       "  <tbody>\n",
       "    <tr>\n",
       "      <th>0</th>\n",
       "      <td>23</td>\n",
       "      <td>L23</td>\n",
       "      <td>p</td>\n",
       "      <td>200usd</td>\n",
       "      <td>100.0</td>\n",
       "      <td>NaN</td>\n",
       "      <td>15.0</td>\n",
       "      <td>NaN</td>\n",
       "      <td>15.0</td>\n",
       "      <td>1.0</td>\n",
       "      <td>approved</td>\n",
       "      <td>2017-09-02</td>\n",
       "      <td>NaN</td>\n",
       "      <td>115.0</td>\n",
       "    </tr>\n",
       "    <tr>\n",
       "      <th>1</th>\n",
       "      <td>24</td>\n",
       "      <td>L24</td>\n",
       "      <td>p</td>\n",
       "      <td>200usd</td>\n",
       "      <td>200.0</td>\n",
       "      <td>NaN</td>\n",
       "      <td>15.0</td>\n",
       "      <td>NaN</td>\n",
       "      <td>30.0</td>\n",
       "      <td>1.0</td>\n",
       "      <td>approved</td>\n",
       "      <td>2017-09-01</td>\n",
       "      <td>NaN</td>\n",
       "      <td>230.0</td>\n",
       "    </tr>\n",
       "    <tr>\n",
       "      <th>2</th>\n",
       "      <td>25</td>\n",
       "      <td>L25</td>\n",
       "      <td>b</td>\n",
       "      <td>150usd</td>\n",
       "      <td>150.0</td>\n",
       "      <td>NaN</td>\n",
       "      <td>20.0</td>\n",
       "      <td>NaN</td>\n",
       "      <td>30.0</td>\n",
       "      <td>3.0</td>\n",
       "      <td>approved</td>\n",
       "      <td>2017-09-04</td>\n",
       "      <td>NaN</td>\n",
       "      <td>180.0</td>\n",
       "    </tr>\n",
       "    <tr>\n",
       "      <th>3</th>\n",
       "      <td>26</td>\n",
       "      <td>L26</td>\n",
       "      <td>p</td>\n",
       "      <td>50usd</td>\n",
       "      <td>50.0</td>\n",
       "      <td>NaN</td>\n",
       "      <td>15.0</td>\n",
       "      <td>NaN</td>\n",
       "      <td>7.5</td>\n",
       "      <td>1.0</td>\n",
       "      <td>approved</td>\n",
       "      <td>2017-09-05</td>\n",
       "      <td>NaN</td>\n",
       "      <td>57.5</td>\n",
       "    </tr>\n",
       "    <tr>\n",
       "      <th>4</th>\n",
       "      <td>27</td>\n",
       "      <td>L27</td>\n",
       "      <td>p</td>\n",
       "      <td>50usd</td>\n",
       "      <td>50.0</td>\n",
       "      <td>NaN</td>\n",
       "      <td>15.0</td>\n",
       "      <td>NaN</td>\n",
       "      <td>7.5</td>\n",
       "      <td>1.0</td>\n",
       "      <td>approved</td>\n",
       "      <td>2017-09-05</td>\n",
       "      <td>NaN</td>\n",
       "      <td>57.5</td>\n",
       "    </tr>\n",
       "    <tr>\n",
       "      <th>5</th>\n",
       "      <td>15</td>\n",
       "      <td>L28</td>\n",
       "      <td>p</td>\n",
       "      <td>50usd</td>\n",
       "      <td>50.0</td>\n",
       "      <td>NaN</td>\n",
       "      <td>15.0</td>\n",
       "      <td>NaN</td>\n",
       "      <td>7.5</td>\n",
       "      <td>1.0</td>\n",
       "      <td>approved</td>\n",
       "      <td>2017-09-08</td>\n",
       "      <td>NaN</td>\n",
       "      <td>57.5</td>\n",
       "    </tr>\n",
       "    <tr>\n",
       "      <th>6</th>\n",
       "      <td>28</td>\n",
       "      <td>L29</td>\n",
       "      <td>p</td>\n",
       "      <td>150usd</td>\n",
       "      <td>150.0</td>\n",
       "      <td>NaN</td>\n",
       "      <td>20.0</td>\n",
       "      <td>NaN</td>\n",
       "      <td>30.0</td>\n",
       "      <td>3.0</td>\n",
       "      <td>approved</td>\n",
       "      <td>2017-09-13</td>\n",
       "      <td>NaN</td>\n",
       "      <td>180.0</td>\n",
       "    </tr>\n",
       "    <tr>\n",
       "      <th>7</th>\n",
       "      <td>29</td>\n",
       "      <td>L30</td>\n",
       "      <td>p</td>\n",
       "      <td>50usd</td>\n",
       "      <td>50.0</td>\n",
       "      <td>NaN</td>\n",
       "      <td>15.0</td>\n",
       "      <td>NaN</td>\n",
       "      <td>7.5</td>\n",
       "      <td>1.0</td>\n",
       "      <td>approved</td>\n",
       "      <td>2017-09-21</td>\n",
       "      <td>NaN</td>\n",
       "      <td>57.5</td>\n",
       "    </tr>\n",
       "  </tbody>\n",
       "</table>\n",
       "</div>"
      ],
      "text/plain": [
       "   id loan_id loan_type amt_requested  loan_amt_usd  loan_amt_ld  rate  \\\n",
       "0  23     L23         p        200usd         100.0          NaN  15.0   \n",
       "1  24     L24         p        200usd         200.0          NaN  15.0   \n",
       "2  25     L25         b        150usd         150.0          NaN  20.0   \n",
       "3  26     L26         p         50usd          50.0          NaN  15.0   \n",
       "4  27     L27         p         50usd          50.0          NaN  15.0   \n",
       "5  15     L28         p         50usd          50.0          NaN  15.0   \n",
       "6  28     L29         p        150usd         150.0          NaN  20.0   \n",
       "7  29     L30         p         50usd          50.0          NaN  15.0   \n",
       "\n",
       "   interest_ld  interest_usd  duration_month    status take_out_dt  \\\n",
       "0          NaN          15.0             1.0  approved  2017-09-02   \n",
       "1          NaN          30.0             1.0  approved  2017-09-01   \n",
       "2          NaN          30.0             3.0  approved  2017-09-04   \n",
       "3          NaN           7.5             1.0  approved  2017-09-05   \n",
       "4          NaN           7.5             1.0  approved  2017-09-05   \n",
       "5          NaN           7.5             1.0  approved  2017-09-08   \n",
       "6          NaN          30.0             3.0  approved  2017-09-13   \n",
       "7          NaN           7.5             1.0  approved  2017-09-21   \n",
       "\n",
       "   loan_plus_intr_ld  loan_plus_intr_usd  \n",
       "0                NaN               115.0  \n",
       "1                NaN               230.0  \n",
       "2                NaN               180.0  \n",
       "3                NaN                57.5  \n",
       "4                NaN                57.5  \n",
       "5                NaN                57.5  \n",
       "6                NaN               180.0  \n",
       "7                NaN                57.5  "
      ]
     },
     "execution_count": 92,
     "metadata": {},
     "output_type": "execute_result"
    }
   ],
   "source": [
    "get_monthly_data(appr_lns, '2017', 9, 'take_out_dt' )"
   ]
  },
  {
   "cell_type": "code",
   "execution_count": 94,
   "metadata": {},
   "outputs": [
    {
     "name": "stdout",
     "output_type": "stream",
     "text": [
      "disbursed:  155250.0\n",
      "disbursed:  0.0\n",
      "disbursed:  60300.0\n",
      "disbursed:  81250.0\n"
     ]
    }
   ],
   "source": [
    "yr = 2017\n",
    "mths = [8, 9, 10, 11]\n",
    "mthly_disb = []\n",
    "mthly_exp_rcpt = []\n",
    "mthly_act_rcpt = []\n",
    "for mth in mths:\n",
    "    dt_rng = None\n",
    "    disb = get_monthly_disb_loans(lns, yr, mth, date_col_name='take_out_dt', currency='ld', date_range=dt_rng)\n",
    "    if str(disb).lower() == 'nan':\n",
    "        disb = 0.0\n",
    "    print('disbursed: ', disb)\n",
    "\n"
   ]
  },
  {
   "cell_type": "code",
   "execution_count": 95,
   "metadata": {
    "collapsed": true
   },
   "outputs": [],
   "source": [
    "def get_expected_receipt(loan_data, payment_data, year, month, currency, date_range=None):\n",
    "    '''This function calculates next month expected payment'''\n",
    "    \n",
    "    if currency.lower() == 'ld':\n",
    "        loan_plus_intr_col = 'loan_plus_intr_ld'\n",
    "        loan_bal_col = 'loan_bal_ld'\n",
    "    else:\n",
    "        loan_plus_intr_col = 'loan_plus_intr_usd'\n",
    "        loan_bal_col = 'loan_bal_usd'\n",
    "\n",
    "    monthly_loan_data = get_monthly_data(data=loan_data, year=year, month=month, \n",
    "                                         date_range=date_range, date_col_name='take_out_dt')\n",
    "    loan_df = DF(monthly_loan_data.loc[~monthly_loan_data[loan_plus_intr_col].isnull()])\n",
    "    loan_df.index = range(loan_df.shape[0])\n",
    "    \n",
    "    loan_df['mthly_pmt'] = loan_df[loan_plus_intr_col] / loan_df.duration_month\n",
    "    exp = loan_df.mthly_pmt.sum()\n",
    "    loan_ids = set(loan_df.loan_id)\n",
    "    \n",
    "    pmts_df = get_monthly_data(data=payment_data, year=year, month=month, \n",
    "                                  date_range=date_range, loan_ids=loan_ids, date_col_name='payment_dt')\n",
    "    \n",
    "    bal_grp = pmts_df.groupby(['id', 'loan_id'], as_index=False).agg({loan_bal_col:min})\n",
    "    \n",
    "    paid_loans_df = bal_grp.loc[(bal_grp[loan_bal_col] <= 0)]  # paid off\n",
    "    paid_loans_df.index = range(paid_loans_df.shape[0])\n",
    "    paid_loan_ids = set(paid_loans_df.loan_id)\n",
    "    \n",
    "    unpaid_loan_ids = loan_ids - paid_loan_ids\n",
    "    \n",
    "#     get balances of unpaid off loans\n",
    "    unpaid_loans_df = DF(pmts_df.loc[pmts_df.loan_id.isin(unpaid_loan_ids)])\n",
    "    unpaid_loans_df.index = range(unpaid_loans_df.shape[0])\n",
    "    unpaid_bal_df = unpaid_loans_df.groupby(['id', 'loan_id'], as_index=False).agg({loan_bal_col:min})\n",
    "    #     filter out paid loans\n",
    "    rem_loan_df = DF(loan_df.loc[loan_df.loan_id.isin(unpaid_loan_ids)])\n",
    "\n",
    "#     calculate expected payment\n",
    "    bal_df = merge(unpaid_bal_df, rem_loan_df, on=['id', 'loan_id'], how='left')\n",
    "    bal_df['expected_pmt'] = np.where(bal_df.mthly_pmt <= bal_df[loan_bal_col], \n",
    "                                                 bal_df.mthly_pmt, bal_df[loan_bal_col])\n",
    "    expected_pmt = bal_df.expected_pmt.sum()\n",
    "    return  expected_pmt\n",
    "\n",
    "def get_actual_receipt(payment_data, year, month, currency, date_col_name='payment_dt', date_range=None):\n",
    "    dt_len = 6 #min length of date\n",
    "    if date_range is None:\n",
    "        dt_cond = np.array([(dt.datetime.strptime(val, '%Y-%m-%d').year == year) & \n",
    "                             (dt.datetime.strptime(val, '%Y-%m-%d').month == month) if isinstance(val, str) and len(val) >= dt_len else False for val \n",
    "                   in payment_data[date_col_name]])\n",
    "    elif date_range.lower() == 'ytd':\n",
    "        dt_cond = np.array([(dt.datetime.strptime(val, '%Y-%m-%d').year == year) & \n",
    "                             (dt.datetime.strptime(val, '%Y-%m-%d').month <= month) if isinstance(val, str) and len(val) >= 6 else False for val \n",
    "                   in payment_data[date_col_name]])\n",
    "    elif date_range.lower() == 'total':\n",
    "        dt_cond = np.array([(dt.datetime.strptime(val, '%Y-%m-%d').year <= year) if isinstance(val, str) and len(val) >= 6 else False for val \n",
    "                   in payment_data[date_col_name]])\n",
    "    data = payment_data.loc[dt_cond]\n",
    "    if currency.lower() == 'ld':\n",
    "        pmt_amt_col = 'payment_amt_ld'\n",
    "    else:\n",
    "        pmt_amt_col = 'payment_amt_usd'\n",
    "    receipt = data[pmt_amt_col].sum()\n",
    "    return receipt"
   ]
  },
  {
   "cell_type": "code",
   "execution_count": 101,
   "metadata": {},
   "outputs": [],
   "source": [
    "def compute_mthly_disb_exp_act(loan_data, payment_data, year, months, currency):\n",
    "    if not isinstance(months, list):\n",
    "        months = list(months)\n",
    "    result = {}\n",
    "    mthly_disb = []\n",
    "    mthly_exp_rcpt = []\n",
    "    mthly_act_rcpt = []\n",
    "    for mth in mths:\n",
    "        dt_rng = None\n",
    "        disb = get_monthly_disb_loans(data=loan_data, year=year, month=mth,  date_col_name='take_out_dt', \n",
    "                                      currency=currency, date_range=dt_rng)\n",
    "        if str(disb).lower() == 'nan':\n",
    "            disb = 0.0\n",
    "        mthly_disb.append(disb)\n",
    "        actual = get_actual_receipt(payment_data=payment_data, year=year, month=mth, currency=currency, \n",
    "                                    date_col_name='payment_dt', date_range=dt_rng)\n",
    "        if str(actual).lower() == 'nan':\n",
    "            actual = 0.0\n",
    "        mthly_act_rcpt.append(actual)\n",
    "        dt_rng = 'YTD'\n",
    "        expected = get_expected_receipt(loan_data=loan_data, payment_data=payment_data, year=year, month=mth, \n",
    "                                        currency=currency, date_range=dt_rng)\n",
    "        if str(expected).lower() == 'nan':\n",
    "            expected = 0.0\n",
    "        mthly_exp_rcpt.append(expected)\n",
    "    result['months'] = months\n",
    "    result['disbursed'] = mthly_disb\n",
    "    result['expected'] = mthly_exp_rcpt\n",
    "    result['actual'] = mthly_act_rcpt\n",
    "    return result"
   ]
  },
  {
   "cell_type": "code",
   "execution_count": 102,
   "metadata": {},
   "outputs": [
    {
     "data": {
      "text/plain": [
       "{'actual': [19840.0, 42100.0, 44100.0, 63600.0],\n",
       " 'disbursed': [155250.0, 0.0, 60300.0, 81250.0],\n",
       " 'expected': [0, 55200.0, 55200.0, 42220.0],\n",
       " 'months': [8, 9, 10, 11]}"
      ]
     },
     "execution_count": 102,
     "metadata": {},
     "output_type": "execute_result"
    }
   ],
   "source": [
    "yr = 2017\n",
    "mths = [8, 9, 10, 11]\n",
    "crcy = 'LD'\n",
    "ld_result = compute_mthly_disb_exp_act(loan_data=lns, payment_data=pmt, year=yr, months=mths, currency=crcy)\n",
    "ld_result"
   ]
  },
  {
   "cell_type": "code",
   "execution_count": 104,
   "metadata": {},
   "outputs": [
    {
     "data": {
      "text/plain": [
       "{'actual': [345.0, 887.5, 536.25, 770.0],\n",
       " 'disbursed': [1550.0, 800.0, 1075.0, 1950.0],\n",
       " 'expected': [0.0, 650.0, 1230.0, 1130.0],\n",
       " 'months': [8, 9, 10, 11]}"
      ]
     },
     "execution_count": 104,
     "metadata": {},
     "output_type": "execute_result"
    }
   ],
   "source": [
    "yr = 2017\n",
    "mths = [8, 9, 10, 11]\n",
    "crcy = 'USD'\n",
    "usd_result = compute_mthly_disb_exp_act(loan_data=lns, payment_data=pmt, year=yr, months=mths, currency=crcy)\n",
    "usd_result"
   ]
  },
  {
   "cell_type": "code",
   "execution_count": 105,
   "metadata": {
    "collapsed": true
   },
   "outputs": [],
   "source": [
    "def plot_result(x_vals, disb, exp, act, x_label, y_label, title,  pct_act_exp=None, \n",
    "                norm=None, figsize=(7, 5), rotation=0, pct_exp=None):\n",
    "    if norm:\n",
    "        disb = disb / norm\n",
    "        exp = exp / norm\n",
    "        act = act / norm\n",
    "    x_pos = np.arange(1, len(x_vals) + 1)\n",
    "    plt.figure(figsize=figsize)\n",
    "    plt.plot(x_pos, disb, 'o-', lw=5, alpha=0.5, label='Disbursed $(%s)' % norm)\n",
    "    plt.plot(x_pos, exp, 'o-', lw=5, alpha=0.5, label='Expected Receipt $(%s)' % norm)\n",
    "    plt.plot(x_pos, act, 'o-', lw=5, alpha=0.5, label='Actual Receipt $(%s)' % norm)\n",
    "    if pct_exp:\n",
    "        plt.plot(x_pos, pct_act_exp, 'o-', lw=5, alpha=0.5, label='Actual Pct of Expected Receipt %s'%'%')\n",
    "    if x_label: plt.xlabel(x_label)\n",
    "    if y_label: plt.ylabel(y_label)\n",
    "    if title: plt.title(title)\n",
    "    locs, labels = plt.xticks(x_pos, x_vals)\n",
    "    plt.setp(labels, rotation=rotation)\n",
    "    plt.legend(loc='best')\n",
    "    plt.tight_layout()\n",
    "    \n",
    "def plot_result_twin_axis(x_vals, disb, exp, act, x_label, ax1_ylabel, ax2_ylabel, title,  pct_act_exp=None, \n",
    "                norm=None, figsize=(7, 5), rotation=0, pct_exp=None):\n",
    "    if norm:\n",
    "        disb = disb / norm\n",
    "        exp = exp / norm\n",
    "        act = act / norm\n",
    "    x_pos = np.arange(1, len(x_vals) + 1)\n",
    "    \n",
    "    fig = plt.figure(figsize=figsize)\n",
    "    ax1 = fig.add_subplot(1, 1, 1)\n",
    "    ax2 = ax1.twinx()\n",
    "    ax1.plot(x_pos, disb, 'o-', lw=5, alpha=0.5, label='Disbursed')\n",
    "    ax1.plot(x_pos, exp, 'o-', lw=5, alpha=0.5, label='Expected Receipt')\n",
    "    ax1.plot(x_pos, act, 'o-', lw=5, alpha=0.5, label='Actual Receipt')\n",
    "    if ax1_ylabel: ax1.set_ylabel(ax1_ylabel)\n",
    "    ax1.legend(loc='upper left')\n",
    "    if pct_exp:\n",
    "        ax2.plot(x_pos, pct_act_exp, 'o-', lw=5, c='red', alpha=0.5, label='Actual Pct of Expected Receipt')\n",
    "        if ax2_ylabel: ax2.set_ylabel(ax2_ylabel, color='red')\n",
    "        ax2.legend(loc='upper right')\n",
    "    plt.sca(ax1)\n",
    "    if title: plt.title(title)\n",
    "    locs, labels = plt.xticks(x_pos, x_vals)\n",
    "    plt.setp(labels, rotation=rotation)\n",
    "    if x_label: plt.xlabel(x_label)\n",
    "    plt.tight_layout()"
   ]
  },
  {
   "cell_type": "code",
   "execution_count": 106,
   "metadata": {
    "collapsed": true
   },
   "outputs": [],
   "source": [
    "# ld plots\n",
    "x_vals = np.array(ld_result['months'])\n",
    "x_pos = np.arange(1, len(x_vals) + 1)\n",
    "disb = np.array(ld_result['disbursed'])\n",
    "exp = np.array(ld_result['expected'])\n",
    "act = np.array(ld_result['actual'])\n",
    "act_pct = np.array([100 * a / e if e !=0 else 100.0 for a, e in zip(act, exp)])"
   ]
  },
  {
   "cell_type": "code",
   "execution_count": 110,
   "metadata": {},
   "outputs": [
    {
     "data": {
      "text/plain": [
       "'output/2018-01-06/'"
      ]
     },
     "execution_count": 110,
     "metadata": {},
     "output_type": "execute_result"
    }
   ],
   "source": [
    "ofoldr"
   ]
  },
  {
   "cell_type": "code",
   "execution_count": 112,
   "metadata": {},
   "outputs": [
    {
     "data": {
      "image/png": "[encoded data removed]",
      "text/plain": [
       "<matplotlib.figure.Figure at 0x1081e6a58>"
      ]
     },
     "metadata": {},
     "output_type": "display_data"
    }
   ],
   "source": [
    "plot_result_twin_axis(x_vals, disb, exp, act, x_label='Months', ax1_ylabel='$(1000)', ax2_ylabel='% Actual of Expected',\n",
    "                      title='LD Portfolio',  pct_act_exp=act_pct, \n",
    "                norm=1000, figsize=(15, 7), rotation=0, pct_exp=True)\n",
    "ofile = ofoldr + 'ld_trend_' + tody + '.png'\n",
    "plt.savefig(ofile, dpi=300, bbox_inches='tight')\n",
    "plt.show()"
   ]
  },
  {
   "cell_type": "code",
   "execution_count": 145,
   "metadata": {
    "collapsed": true
   },
   "outputs": [],
   "source": [
    "# plot_result(x_vals, disb, exp, act, pct_act_exp=act_pct, x_label='Months', y_label=None, title='Monthly distributions of LD portfolio', \n",
    "#             norm=1000, figsize=(10, 5), rotation=0, pct_exp=True)"
   ]
  },
  {
   "cell_type": "code",
   "execution_count": 108,
   "metadata": {
    "collapsed": true
   },
   "outputs": [],
   "source": [
    "# usd plots\n",
    "x_vals = np.array(usd_result['months'])\n",
    "x_pos = np.arange(1, len(x_vals) + 1)\n",
    "disb = np.array(usd_result['disbursed'])\n",
    "exp = np.array(usd_result['expected'])\n",
    "act = np.array(usd_result['actual'])\n",
    "act_pct = np.array([100 * a / e if e !=0 else 100.0 for a, e in zip(act, exp)])"
   ]
  },
  {
   "cell_type": "code",
   "execution_count": 113,
   "metadata": {},
   "outputs": [
    {
     "data": {
      "image/png": "[encoded data removed]",
      "text/plain": [
       "<matplotlib.figure.Figure at 0x10884ce48>"
      ]
     },
     "metadata": {},
     "output_type": "display_data"
    }
   ],
   "source": [
    "plot_result_twin_axis(x_vals, disb, exp, act, x_label='Months', ax1_ylabel='$(100)', ax2_ylabel='% Actual of Expected',\n",
    "                      title='USD Portfolio',  pct_act_exp=act_pct, \n",
    "                norm=100, figsize=(15, 7), rotation=0, pct_exp=True)\n",
    "ofile = ofoldr + 'usd_trend_' + tody + '.png'\n",
    "plt.savefig(ofile, dpi=300, bbox_inches='tight')\n",
    "plt.show()"
   ]
  },
  {
   "cell_type": "code",
   "execution_count": 148,
   "metadata": {
    "collapsed": true
   },
   "outputs": [],
   "source": [
    "# plot_result(x_vals, disb, exp, act, pct_act_exp=act_pct, x_label='Months', y_label=None, title='Monthly distributions of USD portfolio', \n",
    "#             norm=100, figsize=(10, 5), rotation=0, pct_exp=True)"
   ]
  },
  {
   "cell_type": "code",
   "execution_count": 114,
   "metadata": {
    "collapsed": true
   },
   "outputs": [],
   "source": [
    "usd_result_df = DF(usd_result)\n",
    "ofile = ofoldr + 'monthly_usd.xlsx'\n",
    "usd_result_df.to_excel(ofile, header=True, index=False)"
   ]
  },
  {
   "cell_type": "code",
   "execution_count": 115,
   "metadata": {
    "collapsed": true
   },
   "outputs": [],
   "source": [
    "ld_result_df = DF(ld_result)\n",
    "ofile = ofoldr + 'monthly_ld.xlsx'\n",
    "ld_result_df.to_excel(ofile, header=True, index=False)"
   ]
  },
  {
   "cell_type": "code",
   "execution_count": null,
   "metadata": {
    "collapsed": true
   },
   "outputs": [],
   "source": []
  }
 ],
 "metadata": {
  "kernelspec": {
   "display_name": "Python3 hands_on_ml",
   "language": "python",
   "name": "hands_on_ml"
  },
  "language_info": {
   "codemirror_mode": {
    "name": "ipython",
    "version": 3
   },
   "file_extension": ".py",
   "mimetype": "text/x-python",
   "name": "python",
   "nbconvert_exporter": "python",
   "pygments_lexer": "ipython3",
   "version": "3.6.0"
  }
 },
 "nbformat": 4,
 "nbformat_minor": 2
}
