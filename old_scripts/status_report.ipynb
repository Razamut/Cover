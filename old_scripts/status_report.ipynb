{
 "cells": [
  {
   "cell_type": "code",
   "execution_count": 2,
   "metadata": {
    "collapsed": true
   },
   "outputs": [],
   "source": [
    "import numpy as np\n",
    "import openpyxl\n",
    "from pandas import DataFrame, read_csv, merge\n",
    "import matplotlib.pyplot as plt\n",
    "%matplotlib inline"
   ]
  },
  {
   "cell_type": "code",
   "execution_count": 23,
   "metadata": {
    "collapsed": true
   },
   "outputs": [],
   "source": [
    "def plot_bars(x_vals, y_vals, fig_size=(5, 4), x_label=None, y_label=None, title=None, pct=None,\n",
    "             rotation=0, pf=None):\n",
    "    ld_norm = 1e6\n",
    "    usd_norm = 1e3\n",
    "    if pct:\n",
    "        x_vals = x_vals[:-1]\n",
    "        total = y_vals[-1]\n",
    "        y_vals = y_vals[:-1]\n",
    "        y_vals = 100 * (y_vals / total)\n",
    "        y_label = 'PCT OF PORTFOLIO'\n",
    "    if pf and pf.lower() == 'ld':\n",
    "        if title is None:\n",
    "            title = 'DISBURSED LD PORTFOLIO'\n",
    "        if pct is None:\n",
    "            y_vals = y_vals / ld_norm\n",
    "            y_label = 'LD ( MM )'\n",
    "    elif pf and pf.lower() == 'usd':\n",
    "        if title is None:\n",
    "            title = 'DISBURSED USD PORTFOLIO'\n",
    "        if pct is None:\n",
    "            y_vals = y_vals / usd_norm\n",
    "            y_label = 'USD ( KK )'\n",
    "    elif pf and pf.lower() == 'total':\n",
    "        if title is None:\n",
    "            title = 'DISBURSED Total PORTFOLIO (USD)'\n",
    "        if pct is None:\n",
    "            y_vals = y_vals / usd_norm\n",
    "            y_label = 'USD ( KK )'\n",
    "    x_pos = np.arange(1, len(x_vals) + 1)\n",
    "    plt.figure(figsize=fig_size)\n",
    "    plt.bar(left=x_pos, height=y_vals, color='lightblue', width=0.8)\n",
    "    locs, labels = plt.xticks(x_pos, x_vals)\n",
    "    plt.setp(labels, rotation=rotation) \n",
    "    pct_vals = 100 * (y_vals[:2] / y_vals[-1])\n",
    "    for xyz in zip(x_pos[:2], y_vals[:2], pct_vals): \n",
    "        plt.annotate('%.2f%s' % (xyz[-1], '%'), xy=[xyz[0] -0.2, xyz[1]], textcoords='data', fontsize='large')\n",
    "    \n",
    "    if pct:\n",
    "        plt.yticks(np.arange(0, 100, 10))\n",
    "    if x_label:\n",
    "        plt.xlabel(x_label)\n",
    "    if y_label:\n",
    "        plt.ylabel(y_label)\n",
    "    if title:\n",
    "        plt.title(title)\n",
    "    plt.tight_layout()"
   ]
  },
  {
   "cell_type": "code",
   "execution_count": 4,
   "metadata": {
    "collapsed": true
   },
   "outputs": [],
   "source": [
    "ifile = 'disbursed.csv'\n",
    "disbursed = read_csv(ifile)\n",
    "\n",
    "ifile = 'current_status.csv'\n",
    "cur_status = read_csv(ifile)\n",
    "\n",
    "ifile = 'new_loan.csv'\n",
    "loan = read_csv(ifile)\n",
    "\n",
    "ifile = 'new_payment.csv'\n",
    "pmt = read_csv(ifile)"
   ]
  },
  {
   "cell_type": "code",
   "execution_count": 5,
   "metadata": {},
   "outputs": [
    {
     "data": {
      "text/html": [
       "<div>\n",
       "<style>\n",
       "    .dataframe thead tr:only-child th {\n",
       "        text-align: right;\n",
       "    }\n",
       "\n",
       "    .dataframe thead th {\n",
       "        text-align: left;\n",
       "    }\n",
       "\n",
       "    .dataframe tbody tr th {\n",
       "        vertical-align: top;\n",
       "    }\n",
       "</style>\n",
       "<table border=\"1\" class=\"dataframe\">\n",
       "  <thead>\n",
       "    <tr style=\"text-align: right;\">\n",
       "      <th></th>\n",
       "      <th>loan_type</th>\n",
       "      <th>nbr_ld_loans</th>\n",
       "      <th>loan_amt_ld</th>\n",
       "      <th>nbr_usd_loans</th>\n",
       "      <th>loan_amt_usd</th>\n",
       "      <th>total_usd_plus_ld</th>\n",
       "    </tr>\n",
       "  </thead>\n",
       "  <tbody>\n",
       "    <tr>\n",
       "      <th>0</th>\n",
       "      <td>business</td>\n",
       "      <td>19</td>\n",
       "      <td>238300.0</td>\n",
       "      <td>11</td>\n",
       "      <td>2300.0</td>\n",
       "      <td>4372.173913</td>\n",
       "    </tr>\n",
       "    <tr>\n",
       "      <th>1</th>\n",
       "      <td>personal</td>\n",
       "      <td>4</td>\n",
       "      <td>27250.0</td>\n",
       "      <td>17</td>\n",
       "      <td>1925.0</td>\n",
       "      <td>2161.956522</td>\n",
       "    </tr>\n",
       "    <tr>\n",
       "      <th>2</th>\n",
       "      <td>total</td>\n",
       "      <td>23</td>\n",
       "      <td>265550.0</td>\n",
       "      <td>28</td>\n",
       "      <td>4225.0</td>\n",
       "      <td>6534.130435</td>\n",
       "    </tr>\n",
       "  </tbody>\n",
       "</table>\n",
       "</div>"
      ],
      "text/plain": [
       "  loan_type  nbr_ld_loans  loan_amt_ld  nbr_usd_loans  loan_amt_usd  \\\n",
       "0  business            19     238300.0             11        2300.0   \n",
       "1  personal             4      27250.0             17        1925.0   \n",
       "2     total            23     265550.0             28        4225.0   \n",
       "\n",
       "   total_usd_plus_ld  \n",
       "0        4372.173913  \n",
       "1        2161.956522  \n",
       "2        6534.130435  "
      ]
     },
     "execution_count": 5,
     "metadata": {},
     "output_type": "execute_result"
    }
   ],
   "source": [
    "disbursed"
   ]
  },
  {
   "cell_type": "code",
   "execution_count": 6,
   "metadata": {},
   "outputs": [
    {
     "data": {
      "text/html": [
       "<div>\n",
       "<style>\n",
       "    .dataframe thead tr:only-child th {\n",
       "        text-align: right;\n",
       "    }\n",
       "\n",
       "    .dataframe thead th {\n",
       "        text-align: left;\n",
       "    }\n",
       "\n",
       "    .dataframe tbody tr th {\n",
       "        vertical-align: top;\n",
       "    }\n",
       "</style>\n",
       "<table border=\"1\" class=\"dataframe\">\n",
       "  <thead>\n",
       "    <tr style=\"text-align: right;\">\n",
       "      <th></th>\n",
       "      <th>collected</th>\n",
       "      <th>disbursed</th>\n",
       "      <th>disbursed_plus_interest</th>\n",
       "      <th>uncollected</th>\n",
       "      <th>expenses</th>\n",
       "      <th>beginning_cap</th>\n",
       "      <th>cash_on_hand</th>\n",
       "    </tr>\n",
       "  </thead>\n",
       "  <tbody>\n",
       "    <tr>\n",
       "      <th>0</th>\n",
       "      <td>3613.01087</td>\n",
       "      <td>6534.130435</td>\n",
       "      <td>7740.358696</td>\n",
       "      <td>4127.347826</td>\n",
       "      <td>225.0</td>\n",
       "      <td>5000.0</td>\n",
       "      <td>1853.880435</td>\n",
       "    </tr>\n",
       "  </tbody>\n",
       "</table>\n",
       "</div>"
      ],
      "text/plain": [
       "    collected    disbursed  disbursed_plus_interest  uncollected  expenses  \\\n",
       "0  3613.01087  6534.130435              7740.358696  4127.347826     225.0   \n",
       "\n",
       "   beginning_cap  cash_on_hand  \n",
       "0         5000.0   1853.880435  "
      ]
     },
     "execution_count": 6,
     "metadata": {},
     "output_type": "execute_result"
    }
   ],
   "source": [
    "cur_status"
   ]
  },
  {
   "cell_type": "code",
   "execution_count": 8,
   "metadata": {},
   "outputs": [
    {
     "data": {
      "text/html": [
       "<div>\n",
       "<style>\n",
       "    .dataframe thead tr:only-child th {\n",
       "        text-align: right;\n",
       "    }\n",
       "\n",
       "    .dataframe thead th {\n",
       "        text-align: left;\n",
       "    }\n",
       "\n",
       "    .dataframe tbody tr th {\n",
       "        vertical-align: top;\n",
       "    }\n",
       "</style>\n",
       "<table border=\"1\" class=\"dataframe\">\n",
       "  <thead>\n",
       "    <tr style=\"text-align: right;\">\n",
       "      <th></th>\n",
       "      <th>loan_id</th>\n",
       "      <th>loan_type</th>\n",
       "      <th>amt_requested</th>\n",
       "      <th>loan_amt_usd</th>\n",
       "      <th>loan_amt_ld</th>\n",
       "      <th>rate</th>\n",
       "      <th>interest_ld</th>\n",
       "      <th>interest_usd</th>\n",
       "      <th>duration_month</th>\n",
       "      <th>status</th>\n",
       "      <th>take_out_dt</th>\n",
       "      <th>loan_plus_intr_ld</th>\n",
       "      <th>loan_plus_intr_usd</th>\n",
       "    </tr>\n",
       "  </thead>\n",
       "  <tbody>\n",
       "    <tr>\n",
       "      <th>0</th>\n",
       "      <td>L01</td>\n",
       "      <td>p</td>\n",
       "      <td>0usd</td>\n",
       "      <td>NaN</td>\n",
       "      <td>NaN</td>\n",
       "      <td>0.0</td>\n",
       "      <td>NaN</td>\n",
       "      <td>NaN</td>\n",
       "      <td>0.0</td>\n",
       "      <td>approved</td>\n",
       "      <td>2017-01-01</td>\n",
       "      <td>NaN</td>\n",
       "      <td>NaN</td>\n",
       "    </tr>\n",
       "    <tr>\n",
       "      <th>1</th>\n",
       "      <td>L02</td>\n",
       "      <td>b</td>\n",
       "      <td>200usd</td>\n",
       "      <td>NaN</td>\n",
       "      <td>23000.0</td>\n",
       "      <td>20.0</td>\n",
       "      <td>4600.0</td>\n",
       "      <td>NaN</td>\n",
       "      <td>3.0</td>\n",
       "      <td>approved</td>\n",
       "      <td>2017-08-12</td>\n",
       "      <td>27600.0</td>\n",
       "      <td>NaN</td>\n",
       "    </tr>\n",
       "    <tr>\n",
       "      <th>2</th>\n",
       "      <td>L03</td>\n",
       "      <td>b</td>\n",
       "      <td>50usd</td>\n",
       "      <td>NaN</td>\n",
       "      <td>5750.0</td>\n",
       "      <td>20.0</td>\n",
       "      <td>1150.0</td>\n",
       "      <td>NaN</td>\n",
       "      <td>3.0</td>\n",
       "      <td>approved</td>\n",
       "      <td>2017-08-15</td>\n",
       "      <td>6900.0</td>\n",
       "      <td>NaN</td>\n",
       "    </tr>\n",
       "    <tr>\n",
       "      <th>3</th>\n",
       "      <td>L04</td>\n",
       "      <td>b</td>\n",
       "      <td>200usd</td>\n",
       "      <td>NaN</td>\n",
       "      <td>23000.0</td>\n",
       "      <td>20.0</td>\n",
       "      <td>4600.0</td>\n",
       "      <td>NaN</td>\n",
       "      <td>3.0</td>\n",
       "      <td>approved</td>\n",
       "      <td>2017-08-14</td>\n",
       "      <td>27600.0</td>\n",
       "      <td>NaN</td>\n",
       "    </tr>\n",
       "    <tr>\n",
       "      <th>4</th>\n",
       "      <td>L05</td>\n",
       "      <td>b</td>\n",
       "      <td>200usd</td>\n",
       "      <td>200.0</td>\n",
       "      <td>NaN</td>\n",
       "      <td>20.0</td>\n",
       "      <td>NaN</td>\n",
       "      <td>40.0</td>\n",
       "      <td>3.0</td>\n",
       "      <td>approved</td>\n",
       "      <td>2017-08-12</td>\n",
       "      <td>NaN</td>\n",
       "      <td>240.0</td>\n",
       "    </tr>\n",
       "  </tbody>\n",
       "</table>\n",
       "</div>"
      ],
      "text/plain": [
       "  loan_id loan_type amt_requested  loan_amt_usd  loan_amt_ld  rate  \\\n",
       "0     L01         p          0usd           NaN          NaN   0.0   \n",
       "1     L02         b        200usd           NaN      23000.0  20.0   \n",
       "2     L03         b         50usd           NaN       5750.0  20.0   \n",
       "3     L04         b        200usd           NaN      23000.0  20.0   \n",
       "4     L05         b        200usd         200.0          NaN  20.0   \n",
       "\n",
       "   interest_ld  interest_usd  duration_month    status take_out_dt  \\\n",
       "0          NaN           NaN             0.0  approved  2017-01-01   \n",
       "1       4600.0           NaN             3.0  approved  2017-08-12   \n",
       "2       1150.0           NaN             3.0  approved  2017-08-15   \n",
       "3       4600.0           NaN             3.0  approved  2017-08-14   \n",
       "4          NaN          40.0             3.0  approved  2017-08-12   \n",
       "\n",
       "   loan_plus_intr_ld  loan_plus_intr_usd  \n",
       "0                NaN                 NaN  \n",
       "1            27600.0                 NaN  \n",
       "2             6900.0                 NaN  \n",
       "3            27600.0                 NaN  \n",
       "4                NaN               240.0  "
      ]
     },
     "execution_count": 8,
     "metadata": {},
     "output_type": "execute_result"
    }
   ],
   "source": [
    "loan.head(5)"
   ]
  },
  {
   "cell_type": "code",
   "execution_count": 9,
   "metadata": {},
   "outputs": [
    {
     "data": {
      "text/html": [
       "<div>\n",
       "<style>\n",
       "    .dataframe thead tr:only-child th {\n",
       "        text-align: right;\n",
       "    }\n",
       "\n",
       "    .dataframe thead th {\n",
       "        text-align: left;\n",
       "    }\n",
       "\n",
       "    .dataframe tbody tr th {\n",
       "        vertical-align: top;\n",
       "    }\n",
       "</style>\n",
       "<table border=\"1\" class=\"dataframe\">\n",
       "  <thead>\n",
       "    <tr style=\"text-align: right;\">\n",
       "      <th></th>\n",
       "      <th>id</th>\n",
       "      <th>loan_id</th>\n",
       "      <th>loan_plus_intr_usd</th>\n",
       "      <th>loan_plus_intr_ld</th>\n",
       "      <th>payment_dt</th>\n",
       "      <th>payment_amt_usd</th>\n",
       "      <th>payment_amt_ld</th>\n",
       "      <th>loan_bal_usd</th>\n",
       "      <th>loan_bal_ld</th>\n",
       "    </tr>\n",
       "  </thead>\n",
       "  <tbody>\n",
       "    <tr>\n",
       "      <th>0</th>\n",
       "      <td>1</td>\n",
       "      <td>L01</td>\n",
       "      <td>NaN</td>\n",
       "      <td>NaN</td>\n",
       "      <td>2017-03-01</td>\n",
       "      <td>0.0</td>\n",
       "      <td>0.0</td>\n",
       "      <td>NaN</td>\n",
       "      <td>NaN</td>\n",
       "    </tr>\n",
       "    <tr>\n",
       "      <th>1</th>\n",
       "      <td>1</td>\n",
       "      <td>L01</td>\n",
       "      <td>NaN</td>\n",
       "      <td>NaN</td>\n",
       "      <td>NaN</td>\n",
       "      <td>NaN</td>\n",
       "      <td>NaN</td>\n",
       "      <td>NaN</td>\n",
       "      <td>NaN</td>\n",
       "    </tr>\n",
       "    <tr>\n",
       "      <th>2</th>\n",
       "      <td>1</td>\n",
       "      <td>L01</td>\n",
       "      <td>NaN</td>\n",
       "      <td>NaN</td>\n",
       "      <td>NaN</td>\n",
       "      <td>NaN</td>\n",
       "      <td>NaN</td>\n",
       "      <td>NaN</td>\n",
       "      <td>NaN</td>\n",
       "    </tr>\n",
       "    <tr>\n",
       "      <th>3</th>\n",
       "      <td>2</td>\n",
       "      <td>L02</td>\n",
       "      <td>NaN</td>\n",
       "      <td>27600.0</td>\n",
       "      <td>2017-09-12</td>\n",
       "      <td>NaN</td>\n",
       "      <td>9200.0</td>\n",
       "      <td>NaN</td>\n",
       "      <td>18400.0</td>\n",
       "    </tr>\n",
       "    <tr>\n",
       "      <th>4</th>\n",
       "      <td>2</td>\n",
       "      <td>L02</td>\n",
       "      <td>NaN</td>\n",
       "      <td>27600.0</td>\n",
       "      <td>2017-10-12</td>\n",
       "      <td>NaN</td>\n",
       "      <td>9200.0</td>\n",
       "      <td>NaN</td>\n",
       "      <td>9200.0</td>\n",
       "    </tr>\n",
       "  </tbody>\n",
       "</table>\n",
       "</div>"
      ],
      "text/plain": [
       "   id loan_id  loan_plus_intr_usd  loan_plus_intr_ld  payment_dt  \\\n",
       "0   1     L01                 NaN                NaN  2017-03-01   \n",
       "1   1     L01                 NaN                NaN         NaN   \n",
       "2   1     L01                 NaN                NaN         NaN   \n",
       "3   2     L02                 NaN            27600.0  2017-09-12   \n",
       "4   2     L02                 NaN            27600.0  2017-10-12   \n",
       "\n",
       "   payment_amt_usd  payment_amt_ld  loan_bal_usd  loan_bal_ld  \n",
       "0              0.0             0.0           NaN          NaN  \n",
       "1              NaN             NaN           NaN          NaN  \n",
       "2              NaN             NaN           NaN          NaN  \n",
       "3              NaN          9200.0           NaN      18400.0  \n",
       "4              NaN          9200.0           NaN       9200.0  "
      ]
     },
     "execution_count": 9,
     "metadata": {},
     "output_type": "execute_result"
    }
   ],
   "source": [
    "pmt.head(5)"
   ]
  },
  {
   "cell_type": "code",
   "execution_count": 28,
   "metadata": {},
   "outputs": [
    {
     "data": {
      "text/plain": [
       "0.8260869565217391"
      ]
     },
     "execution_count": 28,
     "metadata": {},
     "output_type": "execute_result"
    }
   ],
   "source": [
    "19 / 23"
   ]
  },
  {
   "cell_type": "markdown",
   "metadata": {},
   "source": [
    "### loan disbursed so far"
   ]
  },
  {
   "cell_type": "code",
   "execution_count": 24,
   "metadata": {},
   "outputs": [
    {
     "data": {
      "image/png": "[encoded data removed]",
      "text/plain": [
       "<matplotlib.figure.Figure at 0x109dc78d0>"
      ]
     },
     "metadata": {},
     "output_type": "display_data"
    }
   ],
   "source": [
    "ld_y_vals = disbursed.loan_amt_ld.values\n",
    "ld_x_vals = disbursed.loan_type.values\n",
    "plot_bars(x_vals=ld_x_vals, y_vals=ld_y_vals, pf='LD', pct=None)\n",
    "ifile = 'ttl_ld_pf_amt.png'\n",
    "# plt.savefig(ifile, dpi=300, bbox_inches='tight')\n",
    "plt.show()"
   ]
  },
  {
   "cell_type": "code",
   "execution_count": 25,
   "metadata": {},
   "outputs": [
    {
     "data": {
      "image/png": "[encoded data removed]",
      "text/plain": [
       "<matplotlib.figure.Figure at 0x109d83438>"
      ]
     },
     "metadata": {},
     "output_type": "display_data"
    }
   ],
   "source": [
    "usd_y_vals = disbursed.loan_amt_usd.values\n",
    "usd_x_vals = disbursed.loan_type.values\n",
    "plot_bars(x_vals=usd_x_vals, y_vals=usd_y_vals, pf='USD', pct=None)\n",
    "# ifile = 'ttl_usd_pf_amt.png'\n",
    "# plt.savefig(ifile, dpi=300, bbox_inches='tight')\n",
    "plt.show()"
   ]
  },
  {
   "cell_type": "code",
   "execution_count": 26,
   "metadata": {},
   "outputs": [
    {
     "data": {
      "image/png": "[encoded data removed]",
      "text/plain": [
       "<matplotlib.figure.Figure at 0x1097b9b70>"
      ]
     },
     "metadata": {},
     "output_type": "display_data"
    }
   ],
   "source": [
    "ttl_y_vals = disbursed.total_usd_plus_ld.values\n",
    "ttl_x_vals = disbursed.loan_type.values\n",
    "plot_bars(x_vals=ttl_x_vals, y_vals=ttl_y_vals, pf='total', pct=None)\n",
    "# ifile = 'ttl_pf_amt.png'\n",
    "# plt.savefig(ifile, dpi=300, bbox_inches='tight')\n",
    "plt.show()"
   ]
  },
  {
   "cell_type": "markdown",
   "metadata": {},
   "source": [
    "### Collection progress"
   ]
  },
  {
   "cell_type": "code",
   "execution_count": 17,
   "metadata": {},
   "outputs": [
    {
     "data": {
      "text/html": [
       "<div>\n",
       "<style>\n",
       "    .dataframe thead tr:only-child th {\n",
       "        text-align: right;\n",
       "    }\n",
       "\n",
       "    .dataframe thead th {\n",
       "        text-align: left;\n",
       "    }\n",
       "\n",
       "    .dataframe tbody tr th {\n",
       "        vertical-align: top;\n",
       "    }\n",
       "</style>\n",
       "<table border=\"1\" class=\"dataframe\">\n",
       "  <thead>\n",
       "    <tr style=\"text-align: right;\">\n",
       "      <th></th>\n",
       "      <th>collected</th>\n",
       "      <th>disbursed</th>\n",
       "      <th>disbursed_plus_interest</th>\n",
       "      <th>uncollected</th>\n",
       "      <th>expenses</th>\n",
       "      <th>beginning_cap</th>\n",
       "      <th>cash_on_hand</th>\n",
       "    </tr>\n",
       "  </thead>\n",
       "  <tbody>\n",
       "    <tr>\n",
       "      <th>0</th>\n",
       "      <td>3613.01087</td>\n",
       "      <td>6534.130435</td>\n",
       "      <td>7740.358696</td>\n",
       "      <td>4127.347826</td>\n",
       "      <td>225.0</td>\n",
       "      <td>5000.0</td>\n",
       "      <td>1853.880435</td>\n",
       "    </tr>\n",
       "  </tbody>\n",
       "</table>\n",
       "</div>"
      ],
      "text/plain": [
       "    collected    disbursed  disbursed_plus_interest  uncollected  expenses  \\\n",
       "0  3613.01087  6534.130435              7740.358696  4127.347826     225.0   \n",
       "\n",
       "   beginning_cap  cash_on_hand  \n",
       "0         5000.0   1853.880435  "
      ]
     },
     "execution_count": 17,
     "metadata": {},
     "output_type": "execute_result"
    }
   ],
   "source": [
    "cur_status"
   ]
  },
  {
   "cell_type": "code",
   "execution_count": 27,
   "metadata": {},
   "outputs": [
    {
     "data": {
      "image/png": "[encoded data removed]",
      "text/plain": [
       "<matplotlib.figure.Figure at 0x109783fd0>"
      ]
     },
     "metadata": {},
     "output_type": "display_data"
    }
   ],
   "source": [
    "xvals = np.array(['collected', 'uncollected', 'target'])\n",
    "yvals = np.array([cur_status.collected.values[0], cur_status.uncollected.values[0], \n",
    "                  cur_status.disbursed_plus_interest.values[0]])\n",
    "plot_bars(x_vals=xvals, y_vals=yvals, pf='usd', pct=None, title='COLLECTION PROGRESS')\n",
    "\n"
   ]
  },
  {
   "cell_type": "code",
   "execution_count": null,
   "metadata": {
    "collapsed": true
   },
   "outputs": [],
   "source": []
  }
 ],
 "metadata": {
  "kernelspec": {
   "display_name": "Python3 hands_on_ml",
   "language": "python",
   "name": "hands_on_ml"
  },
  "language_info": {
   "codemirror_mode": {
    "name": "ipython",
    "version": 3
   },
   "file_extension": ".py",
   "mimetype": "text/x-python",
   "name": "python",
   "nbconvert_exporter": "python",
   "pygments_lexer": "ipython3",
   "version": "3.6.0"
  }
 },
 "nbformat": 4,
 "nbformat_minor": 2
}
