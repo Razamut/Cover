{
 "cells": [
  {
   "cell_type": "code",
   "execution_count": 1,
   "metadata": {
    "collapsed": true
   },
   "outputs": [],
   "source": [
    "%matplotlib inline\n",
    "import matplotlib.pyplot as plt\n",
    "import numpy as np\n",
    "import openpyxl\n",
    "import xlrd\n",
    "import os\n",
    "from pandas import DataFrame as DF\n",
    "from pandas import read_csv, read_excel, merge, concat\n",
    "import datetime as dt\n",
    "from datetime import timedelta"
   ]
  },
  {
   "cell_type": "code",
   "execution_count": 2,
   "metadata": {
    "collapsed": true
   },
   "outputs": [],
   "source": [
    "def string_to_float(x):\n",
    "    if isinstance(x, str):\n",
    "        try:\n",
    "            y = float(x)\n",
    "        except Exception as e:\n",
    "            y = np.nan\n",
    "    else:\n",
    "        y = float(x)\n",
    "    return y\n",
    "\n",
    "def compute_bal(amt, pmt_series):\n",
    "    try:\n",
    "        amt = float(amt)\n",
    "    except Exception as e:\n",
    "        print(e)\n",
    "    bal_series = []\n",
    "    for i, pmt in enumerate(pmt_series):\n",
    "        if i == 0:\n",
    "            bal = amt - pmt\n",
    "        else:\n",
    "            bal = bal_series[i - 1] - pmt\n",
    "        bal_series.append(bal)\n",
    "    return bal_series\n",
    "\n",
    "\n",
    "\n",
    "def detect_type(data, obj='loan'):\n",
    "    if obj.lower() == 'loan':\n",
    "        col = data.loan_plus_intr_ld.values\n",
    "    elif obj.lower() == 'pmt':\n",
    "        col = data.payment_amt_ld.values\n",
    "    if all([str(val) == 'nan' for val in col]):\n",
    "        obj_type = 0\n",
    "    else:\n",
    "        obj_type = 1\n",
    "    return obj_type\n",
    "    \n",
    "def get_usd_ld_loan_balance(input_data, x_rate):\n",
    "    data = input_data.sort_values(by=['loan_id', 'payment_dt'])\n",
    "    data.index = range(data.shape[0])\n",
    "    data['loan_bal_usd'] = [np.nan] * len(data)\n",
    "    data['loan_bal_ld'] = [np.nan] * len(data)\n",
    "    for ln_id in np.unique(data.loan_id):\n",
    "#         print(ln_id)\n",
    "        data = DF(data)\n",
    "        subdf = DF(data.loc[data.loan_id==ln_id])\n",
    "        subdf = subdf.sort_values(by=['loan_id', 'payment_dt']) # sort by increasing date\n",
    "        indx = subdf.index\n",
    "#         print(indx)\n",
    "        # get loan amount\n",
    "        ld_ln_amt = subdf.loan_plus_intr_ld.values[0]\n",
    "        usd_ln_amt = subdf.loan_plus_intr_usd.values[0]\n",
    "#         print(usd_ln_amt)\n",
    "\n",
    "        ln_type = detect_type(subdf, 'loan')\n",
    "        pmt_type = detect_type(subdf, 'pmt')\n",
    "        if (ln_type == 0 or ln_type ==1) and (pmt_type == 0 or pmt_type == 1):\n",
    "            pmt_ld = subdf.payment_amt_ld.values\n",
    "            pmt_usd = subdf.payment_amt_usd.values\n",
    "\n",
    "            if ln_type == 0 and pmt_type == 0:\n",
    "                data.loc[indx[0]:indx[-1], -2:-1] = compute_bal(usd_ln_amt, pmt_usd) # compute usd loan balance\n",
    "            elif ln_type == 0 and pmt_type == 1: #mismatch between loan and payment currencies\n",
    "                conv_pmt = np.array([float(val) for val in pmt_ld]) / x_rate # convert payment to loan currency\n",
    "                data.loc[indx[0]:indx[-1], -2:-1] = compute_bal(usd_ln_amt, conv_pmt) # compute loan balance\n",
    "            elif ln_type == 1 and pmt_type == 0: # mismatch between loan and payment currencies\n",
    "                conv_pmt = x_rate * np.array([float(val) for val in pmt_usd]) \n",
    "                data.loc[indx[0]:indx[-1], -1:] = compute_bal(ld_ln_amt, conv_pmt)\n",
    "            elif ln_type == 1 and pmt_type == 1:\n",
    "                data.loc[indx[0]:indx[-1], -1:] = compute_bal(ld_ln_amt, pmt_ld) # compute ld loan balance\n",
    "        else:\n",
    "            print('Loan type or payment type not detected!')\n",
    "    return data\n",
    "\n",
    "\n",
    "def plot_bars(x_vals, y_vals, fig_size=(5, 4), x_label=None, y_label=None, title=None, pct=None,\n",
    "             rotation=0, pf=None):\n",
    "    ld_norm = 1e6\n",
    "    usd_norm = 1e3\n",
    "    if pct:\n",
    "        x_vals = x_vals[:-1]\n",
    "        total = y_vals[-1]\n",
    "        y_vals = y_vals[:-1]\n",
    "        y_vals = 100 * (y_vals / total)\n",
    "        y_label = 'PCT OF PORTFOLIO'\n",
    "    if pf and pf.lower() == 'ld':\n",
    "        if title is None:\n",
    "            title = 'DISBURSED LD PORTFOLIO'\n",
    "        if pct is None:\n",
    "            y_vals = y_vals / ld_norm\n",
    "            y_label = 'LD ( MM )'\n",
    "    elif pf and pf.lower() == 'usd':\n",
    "        if title is None:\n",
    "            title = 'DISBURSED USD PORTFOLIO'\n",
    "        if pct is None:\n",
    "            y_vals = y_vals / usd_norm\n",
    "            y_label = 'USD ( KK )'\n",
    "    elif pf and pf.lower() == 'total':\n",
    "        if title is None:\n",
    "            title = 'DISBURSED Total PORTFOLIO (USD)'\n",
    "        if pct is None:\n",
    "            y_vals = y_vals / usd_norm\n",
    "            y_label = 'USD ( KK )'\n",
    "    x_pos = np.arange(1, len(x_vals) + 1)\n",
    "    plt.figure(figsize=fig_size)\n",
    "    plt.bar(left=x_pos, height=y_vals, color='lightblue', width=0.8)\n",
    "    locs, labels = plt.xticks(x_pos, x_vals)\n",
    "    plt.setp(labels, rotation=rotation) \n",
    "    pct_vals = 100 * (y_vals[:2] / y_vals[-1])\n",
    "    for xyz in zip(x_pos[:2], y_vals[:2], pct_vals): \n",
    "        plt.annotate('%.2f%s' % (xyz[-1], '%'), xy=[xyz[0] -0.2, xyz[1]], textcoords='data', fontsize='large')\n",
    "    \n",
    "    if pct:\n",
    "        plt.yticks(np.arange(0, 100, 10))\n",
    "    if x_label:\n",
    "        plt.xlabel(x_label)\n",
    "    if y_label:\n",
    "        plt.ylabel(y_label)\n",
    "    if title:\n",
    "        plt.title(title)\n",
    "    plt.tight_layout()"
   ]
  },
  {
   "cell_type": "code",
   "execution_count": 3,
   "metadata": {},
   "outputs": [
    {
     "name": "stdout",
     "output_type": "stream",
     "text": [
      "collections.xlsx  loans.xlsx        payments.xlsx\r\n"
     ]
    }
   ],
   "source": [
    "ls data/"
   ]
  },
  {
   "cell_type": "code",
   "execution_count": 4,
   "metadata": {},
   "outputs": [
    {
     "data": {
      "text/plain": [
       "'2018-01-06'"
      ]
     },
     "execution_count": 4,
     "metadata": {},
     "output_type": "execute_result"
    }
   ],
   "source": [
    "ipath = 'data/'\n",
    "opath = 'output/'\n",
    "\n",
    "tody = str(dt.datetime.today().date())\n",
    "\n",
    "ofoldr = opath + tody + '/'"
   ]
  },
  {
   "cell_type": "code",
   "execution_count": 5,
   "metadata": {},
   "outputs": [
    {
     "name": "stdout",
     "output_type": "stream",
     "text": [
      "exists\n"
     ]
    }
   ],
   "source": [
    "if os.path.exists(ofoldr):\n",
    "    print('exists')\n",
    "else:\n",
    "    print('does not exist, and making folder')\n",
    "    os.mkdir(ofoldr)"
   ]
  },
  {
   "cell_type": "markdown",
   "metadata": {},
   "source": [
    "### compute  loan disbursed "
   ]
  },
  {
   "cell_type": "code",
   "execution_count": 6,
   "metadata": {
    "collapsed": true
   },
   "outputs": [],
   "source": [
    "ifile = ipath + 'loans.xlsx'\n",
    "\n",
    "lns = read_excel(ifile)"
   ]
  },
  {
   "cell_type": "code",
   "execution_count": 7,
   "metadata": {
    "collapsed": true
   },
   "outputs": [],
   "source": [
    "qa_cols = ['loan_amt_usd', 'loan_amt_ld', 'rate', 'interest_ld', 'interest_usd', 'duration_month', \n",
    "          'loan_plus_intr_ld', 'loan_plus_intr_usd']\n",
    "\n",
    "for col in qa_cols:\n",
    "    lns[col] = lns[col].apply(string_to_float)"
   ]
  },
  {
   "cell_type": "code",
   "execution_count": 8,
   "metadata": {
    "collapsed": true
   },
   "outputs": [],
   "source": [
    "# get approved loans\n",
    "\n",
    "appr = lns.loc[lns.status == 'approved']\n",
    "appr.index = range(appr.shape[0])\n",
    "\n",
    "# get Liberian dollar loans\n",
    "\n",
    "ld_loan = DF( appr.loc[~appr.loan_amt_ld.isnull()] )\n",
    "ld_loan.index = range(ld_loan.shape[0])\n",
    "# get US dollar loans\n",
    "\n",
    "usd_loan = DF( appr.loc[~appr.loan_amt_usd.isnull()] )\n",
    "usd_loan.index = range(usd_loan.shape[0])"
   ]
  },
  {
   "cell_type": "code",
   "execution_count": 9,
   "metadata": {
    "collapsed": true
   },
   "outputs": [],
   "source": [
    "# get stats by loan_type\n",
    "\n",
    "ld_ln_grp = ld_loan.groupby(\"loan_type\", as_index=False).agg({\"loan_id\": \"count\", \n",
    "                                                              \"loan_amt_ld\": sum})\n",
    "ld_ln_grp = ld_ln_grp.rename(columns = {\"loan_id\": \"nbr_ld_loans\"})\n",
    "\n",
    "usd_ln_grp = usd_loan.groupby(\"loan_type\", as_index=False).agg({\"loan_id\": \"count\", \n",
    "                                                               \"loan_amt_usd\": sum})\n",
    "usd_ln_grp = usd_ln_grp.rename(columns = {\"loan_id\": \"nbr_usd_loans\"})\n",
    "\n",
    "# merge groups\n",
    "\n",
    "ln_grps = merge(ld_ln_grp, usd_ln_grp, on=\"loan_type\", how=\"outer\")\n",
    "\n",
    "# add total row\n",
    "\n",
    "row = ln_grps.values.sum(axis=0)\n",
    "row[0] = \"total\"\n",
    "\n",
    "ln_grps.loc[-1] = row\n",
    "ln_grps.index = range(ln_grps.shape[0])"
   ]
  },
  {
   "cell_type": "code",
   "execution_count": 10,
   "metadata": {
    "collapsed": true
   },
   "outputs": [],
   "source": [
    "x_rate = 115.0\n",
    "\n",
    "ln_grps['total_usd_plus_ld'] = ln_grps.loan_amt_ld / x_rate + ln_grps.loan_amt_usd"
   ]
  },
  {
   "cell_type": "code",
   "execution_count": 11,
   "metadata": {
    "collapsed": true
   },
   "outputs": [],
   "source": [
    "# save the disbursed loans\n",
    "ofile = ofoldr + 'disbursed_by_loan_type.csv'\n",
    "ln_grps.to_csv(ofile, header=True, index=None)"
   ]
  },
  {
   "cell_type": "code",
   "execution_count": 12,
   "metadata": {
    "collapsed": true
   },
   "outputs": [],
   "source": [
    "# compute expected collections\n",
    "\n",
    "exp_ld_coll = appr.loan_plus_intr_ld.sum()\n",
    "\n",
    "exp_usd_coll = appr.loan_plus_intr_usd.sum()\n",
    "\n",
    "exp_ttl_coll = exp_ld_coll / x_rate + exp_usd_coll"
   ]
  },
  {
   "cell_type": "markdown",
   "metadata": {},
   "source": [
    "### get the collections data"
   ]
  },
  {
   "cell_type": "code",
   "execution_count": 13,
   "metadata": {
    "collapsed": true
   },
   "outputs": [],
   "source": [
    "ifile = ipath + 'collections.xlsx'\n",
    "cltn = read_excel(ifile)\n",
    "\n",
    "cols = ['id', 'loan_id', 'loan_plus_intr_usd', 'loan_plus_intr_ld',\n",
    "       'payment_dt', 'payment_amt_usd', 'payment_amt_ld']\n",
    "\n",
    "cltn = DF( cltn[cols] )\n",
    "\n",
    "qa_cols = ['loan_plus_intr_usd', 'loan_plus_intr_ld', 'payment_amt_usd', 'payment_amt_ld']\n",
    "\n",
    "for col in qa_cols:\n",
    "    cltn[col] = cltn[col].apply(string_to_float)"
   ]
  },
  {
   "cell_type": "code",
   "execution_count": 14,
   "metadata": {
    "collapsed": true
   },
   "outputs": [],
   "source": [
    "#  compute collections\n",
    "\n",
    "ld_coll = cltn.payment_amt_ld.sum()\n",
    "\n",
    "usd_coll = cltn.payment_amt_usd.sum()\n",
    "\n",
    "ttl_coll = ld_coll / x_rate + usd_coll\n",
    "\n",
    "pmt = get_usd_ld_loan_balance(cltn, x_rate=115.0)"
   ]
  },
  {
   "cell_type": "code",
   "execution_count": 15,
   "metadata": {
    "collapsed": true
   },
   "outputs": [],
   "source": [
    "# save the latest payment table\n",
    "ofile = ofoldr + 'payment_' + tody + '.xlsx'\n",
    "pmt.to_excel(ofile, header=True, index=False)"
   ]
  },
  {
   "cell_type": "code",
   "execution_count": 16,
   "metadata": {},
   "outputs": [
    {
     "data": {
      "text/plain": [
       "5279.7391304347821"
      ]
     },
     "execution_count": 16,
     "metadata": {},
     "output_type": "execute_result"
    }
   ],
   "source": [
    "ttl_uncoll = exp_ttl_coll - ttl_coll\n",
    "\n",
    "ttl_uncoll"
   ]
  },
  {
   "cell_type": "markdown",
   "metadata": {},
   "source": [
    "### get aggregrates"
   ]
  },
  {
   "cell_type": "code",
   "execution_count": 17,
   "metadata": {
    "collapsed": true
   },
   "outputs": [],
   "source": [
    "ttl_disb = ln_grps.total_usd_plus_ld.values[-1:][0]"
   ]
  },
  {
   "cell_type": "code",
   "execution_count": 18,
   "metadata": {
    "collapsed": true
   },
   "outputs": [],
   "source": [
    "agg = DF([{'disbursed': ttl_disb, 'collected': ttl_coll, \n",
    "                  'uncollected': ttl_uncoll, 'disb_plus_intr': exp_ttl_coll}])\n",
    "\n",
    "total_cap = 5000.0\n",
    "expenses = 225.0\n",
    "bal_cap = total_cap - ttl_disb + ttl_coll - expenses\n",
    "\n",
    "agg['expenses'] = expenses\n",
    "agg['beginning_cap'] = total_cap\n",
    "agg['cash_on_hand'] = bal_cap"
   ]
  },
  {
   "cell_type": "code",
   "execution_count": 19,
   "metadata": {
    "collapsed": true
   },
   "outputs": [],
   "source": [
    "# save the aggregates\n",
    "ofile = ofoldr + 'current_status.xlsx'\n",
    "agg.to_excel(ofile, header=True, index=False)"
   ]
  },
  {
   "cell_type": "markdown",
   "metadata": {},
   "source": [
    "### plot summary"
   ]
  },
  {
   "cell_type": "code",
   "execution_count": 20,
   "metadata": {},
   "outputs": [
    {
     "data": {
      "image/png": "[encoded data removed]",
      "text/plain": [
       "<matplotlib.figure.Figure at 0x111e80f28>"
      ]
     },
     "metadata": {},
     "output_type": "display_data"
    }
   ],
   "source": [
    "ld_y_vals = ln_grps.loan_amt_ld.values\n",
    "ld_x_vals = ln_grps.loan_type.values\n",
    "plot_bars(x_vals=ld_x_vals, y_vals=ld_y_vals, pf='LD', pct=None)\n",
    "ofile = ofoldr + 'ttl_ld_pf_amt.png'\n",
    "plt.savefig(ofile, dpi=300, bbox_inches='tight')\n",
    "plt.show()"
   ]
  },
  {
   "cell_type": "code",
   "execution_count": 21,
   "metadata": {},
   "outputs": [
    {
     "data": {
      "image/png": "[encoded data removed]",
      "text/plain": [
       "<matplotlib.figure.Figure at 0x111f139e8>"
      ]
     },
     "metadata": {},
     "output_type": "display_data"
    }
   ],
   "source": [
    "usd_y_vals = ln_grps.loan_amt_usd.values\n",
    "usd_x_vals = ln_grps.loan_type.values\n",
    "plot_bars(x_vals=usd_x_vals, y_vals=usd_y_vals, pf='USD', pct=None)\n",
    "ofile = ofoldr + 'ttl_usd_pf_amt.png'\n",
    "plt.savefig(ofile, dpi=300, bbox_inches='tight')\n",
    "plt.show()"
   ]
  },
  {
   "cell_type": "code",
   "execution_count": 22,
   "metadata": {},
   "outputs": [
    {
     "data": {
      "image/png": "[encoded data removed]",
      "text/plain": [
       "<matplotlib.figure.Figure at 0x1126ac048>"
      ]
     },
     "metadata": {},
     "output_type": "display_data"
    }
   ],
   "source": [
    "ttl_y_vals = ln_grps.total_usd_plus_ld.values\n",
    "ttl_x_vals = ln_grps.loan_type.values\n",
    "plot_bars(x_vals=ttl_x_vals, y_vals=ttl_y_vals, pf='total', pct=None)\n",
    "ofile = ofoldr + 'ttl_pf_amt.png'\n",
    "plt.savefig(ofile, dpi=300, bbox_inches='tight')\n",
    "plt.show()"
   ]
  },
  {
   "cell_type": "code",
   "execution_count": 23,
   "metadata": {},
   "outputs": [
    {
     "data": {
      "image/png": "[encoded data removed]",
      "text/plain": [
       "<matplotlib.figure.Figure at 0x1131ae7b8>"
      ]
     },
     "metadata": {},
     "output_type": "display_data"
    }
   ],
   "source": [
    "xvals = np.array(['collected', 'uncollected', 'target'])\n",
    "yvals = np.array([agg.collected.values[0], agg.uncollected.values[0], \n",
    "                  agg.disb_plus_intr.values[0]])\n",
    "plot_bars(x_vals=xvals, y_vals=yvals, pf='usd', pct=None, title='COLLECTION PROGRESS')\n",
    "ofile = ofoldr + 'collection_summary.png'\n",
    "plt.savefig(ofile, dpi=300, bbox_inches='tight')\n",
    "plt.show()"
   ]
  },
  {
   "cell_type": "code",
   "execution_count": null,
   "metadata": {
    "collapsed": true
   },
   "outputs": [],
   "source": []
  },
  {
   "cell_type": "markdown",
   "metadata": {},
   "source": [
    "### load previous payment (the original v0 )"
   ]
  },
  {
   "cell_type": "code",
   "execution_count": 24,
   "metadata": {
    "collapsed": true
   },
   "outputs": [],
   "source": [
    "# ifile = ipath + 'payments.xlsx'\n",
    "# old_pmt = read_excel(ifile)\n",
    "\n",
    "# cols = ['id', 'loan_id', 'loan_plus_intr_usd', 'loan_plus_intr_ld',\n",
    "#        'payment_dt', 'payment_amt_usd', 'payment_amt_ld', 'loan_bal_usd',\n",
    "#        'loan_bal_ld']\n",
    "\n",
    "# old_pmt = DF( old_pmt[cols])"
   ]
  }
 ],
 "metadata": {
  "kernelspec": {
   "display_name": "Python3 hands_on_ml",
   "language": "python",
   "name": "hands_on_ml"
  },
  "language_info": {
   "codemirror_mode": {
    "name": "ipython",
    "version": 3
   },
   "file_extension": ".py",
   "mimetype": "text/x-python",
   "name": "python",
   "nbconvert_exporter": "python",
   "pygments_lexer": "ipython3",
   "version": "3.6.0"
  }
 },
 "nbformat": 4,
 "nbformat_minor": 2
}
