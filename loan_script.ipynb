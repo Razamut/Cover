{
 "cells": [
  {
   "cell_type": "code",
   "execution_count": 1,
   "metadata": {
    "collapsed": false,
    "deletable": true,
    "editable": true
   },
   "outputs": [],
   "source": [
    "import numpy as np\n",
    "import openpyxl\n",
    "from pandas import DataFrame, read_csv, merge\n",
    "import matplotlib.pyplot as plt\n",
    "%matplotlib inline"
   ]
  },
  {
   "cell_type": "code",
   "execution_count": 2,
   "metadata": {
    "collapsed": false,
    "deletable": true,
    "editable": true
   },
   "outputs": [],
   "source": [
    "loan_df = read_csv(\"loan.csv\")\n",
    "\n",
    "loan_df[\"loan_type\"] = [val.lower().strip() if isinstance(val, str) else val \n",
    "                        for val in loan_df.loan_type ]"
   ]
  },
  {
   "cell_type": "code",
   "execution_count": 4,
   "metadata": {
    "collapsed": false,
    "deletable": true,
    "editable": true
   },
   "outputs": [],
   "source": [
    "# get approved loans\n",
    "\n",
    "appr = loan_df.loc[loan_df.status == 'approved']\n",
    "appr.index = range(appr.shape[0])\n",
    "\n",
    "# get Liberian dollar loans\n",
    "\n",
    "ld_loan = DataFrame( appr.loc[~appr.loan_amt_ld.isnull()] )\n",
    "ld_loan[\"loan_amt_ld\"] = [float(num) for num in ld_loan[\"loan_amt_ld\"]]\n",
    "ld_loan.index = range(ld_loan.shape[0])\n",
    "\n",
    "# get US dollar loans\n",
    "\n",
    "usd_loan = DataFrame( appr.loc[~appr.loan_amt_usd.isnull()] )\n",
    "usd_loan[\"loan_amt_usd\"] = [float(num) for num in usd_loan[\"loan_amt_usd\"]]\n",
    "usd_loan.index = range(usd_loan.shape[0])"
   ]
  },
  {
   "cell_type": "code",
   "execution_count": 5,
   "metadata": {
    "collapsed": false,
    "deletable": true,
    "editable": true
   },
   "outputs": [],
   "source": [
    "# get stats by loan_type\n",
    "\n",
    "ld_ln_grp = ld_loan.groupby(\"loan_type\", as_index=False).agg({\"loan_id\": \"count\", \n",
    "                                                              \"loan_amt_ld\": \"sum\"})\n",
    "ld_ln_grp = ld_ln_grp.rename(columns = {\"loan_id\": \"num_ld_loans\"})\n",
    "\n",
    "usd_ln_grp = usd_loan.groupby(\"loan_type\", as_index=False).agg({\"loan_id\": \"count\", \n",
    "                                                               \"loan_amt_usd\": \"sum\"})\n",
    "usd_ln_grp = usd_ln_grp.rename(columns = {\"loan_id\": \"num_usd_loans\"})\n",
    "\n",
    "# merge groups\n",
    "\n",
    "merged_ln_grps = merge(ld_ln_grp, usd_ln_grp, on=\"loan_type\", how=\"outer\")\n",
    "\n",
    "# add total row\n",
    "\n",
    "row = merged_ln_grps.values.sum(axis=0)\n",
    "row[0] = \"total\"\n",
    "\n",
    "merged_ln_grps.loc[-1] = row\n",
    "merged_ln_grps.index = range(merged_ln_grps.shape[0])"
   ]
  },
  {
   "cell_type": "code",
   "execution_count": 6,
   "metadata": {
    "collapsed": false,
    "deletable": true,
    "editable": true
   },
   "outputs": [
    {
     "data": {
      "text/html": [
       "<div>\n",
       "<style>\n",
       "    .dataframe thead tr:only-child th {\n",
       "        text-align: right;\n",
       "    }\n",
       "\n",
       "    .dataframe thead th {\n",
       "        text-align: left;\n",
       "    }\n",
       "\n",
       "    .dataframe tbody tr th {\n",
       "        vertical-align: top;\n",
       "    }\n",
       "</style>\n",
       "<table border=\"1\" class=\"dataframe\">\n",
       "  <thead>\n",
       "    <tr style=\"text-align: right;\">\n",
       "      <th></th>\n",
       "      <th>loan_type</th>\n",
       "      <th>num_ld_loans</th>\n",
       "      <th>loan_amt_ld</th>\n",
       "      <th>num_usd_loans</th>\n",
       "      <th>loan_amt_usd</th>\n",
       "    </tr>\n",
       "  </thead>\n",
       "  <tbody>\n",
       "    <tr>\n",
       "      <th>0</th>\n",
       "      <td>business</td>\n",
       "      <td>7</td>\n",
       "      <td>138000.0</td>\n",
       "      <td>7</td>\n",
       "      <td>1200.0</td>\n",
       "    </tr>\n",
       "    <tr>\n",
       "      <th>1</th>\n",
       "      <td>personal</td>\n",
       "      <td>2</td>\n",
       "      <td>17250.0</td>\n",
       "      <td>8</td>\n",
       "      <td>1000.0</td>\n",
       "    </tr>\n",
       "    <tr>\n",
       "      <th>2</th>\n",
       "      <td>total</td>\n",
       "      <td>9</td>\n",
       "      <td>155250.0</td>\n",
       "      <td>15</td>\n",
       "      <td>2200.0</td>\n",
       "    </tr>\n",
       "  </tbody>\n",
       "</table>\n",
       "</div>"
      ],
      "text/plain": [
       "  loan_type  num_ld_loans  loan_amt_ld  num_usd_loans  loan_amt_usd\n",
       "0  business             7     138000.0              7        1200.0\n",
       "1  personal             2      17250.0              8        1000.0\n",
       "2     total             9     155250.0             15        2200.0"
      ]
     },
     "execution_count": 6,
     "metadata": {},
     "output_type": "execute_result"
    }
   ],
   "source": [
    "merged_ln_grps"
   ]
  },
  {
   "cell_type": "code",
   "execution_count": 7,
   "metadata": {
    "collapsed": false,
    "deletable": true,
    "editable": true
   },
   "outputs": [
    {
     "data": {
      "text/plain": [
       "1450.0"
      ]
     },
     "execution_count": 7,
     "metadata": {},
     "output_type": "execute_result"
    }
   ],
   "source": [
    "total_cap = 5000\n",
    "x_rate = 115\n",
    "total_ld_loan = merged_ln_grps.loc[(merged_ln_grps.loan_type=='total')].loan_amt_ld.values[0]\n",
    "total_usd_loan = merged_ln_grps.loc[(merged_ln_grps.loan_type=='total')].loan_amt_usd.values[0]\n",
    "\n",
    "bal_cap = total_cap - ( (total_ld_loan / x_rate) + total_usd_loan)\n",
    "\n",
    "bal_cap"
   ]
  },
  {
   "cell_type": "code",
   "execution_count": 8,
   "metadata": {
    "collapsed": true,
    "deletable": true,
    "editable": true
   },
   "outputs": [],
   "source": [
    "merged_ln_grps.to_csv(\"weekly_loan_summary.csv\", header=True, index=False)"
   ]
  },
  {
   "cell_type": "code",
   "execution_count": 9,
   "metadata": {
    "collapsed": false,
    "deletable": true,
    "editable": true
   },
   "outputs": [],
   "source": [
    "merged_ln_grps.to_excel(\"weekly_loan_summary.xlsx\", index=False)"
   ]
  },
  {
   "cell_type": "code",
   "execution_count": 9,
   "metadata": {
    "collapsed": true,
    "deletable": true,
    "editable": true
   },
   "outputs": [],
   "source": [
    "import smtplib\n",
    "# import email.mime as mime\n",
    "\n",
    "from email.mime.message import MIMEMessage, message\n",
    "# Import the email modules we'll need\n",
    "from email.mime.text import MIMEText\n"
   ]
  },
  {
   "cell_type": "code",
   "execution_count": 10,
   "metadata": {
    "collapsed": false,
    "deletable": true,
    "editable": true
   },
   "outputs": [
    {
     "ename": "NameError",
     "evalue": "name 'textfile' is not defined",
     "output_type": "error",
     "traceback": [
      "\u001b[0;31m---------------------------------------------------------------------------\u001b[0m",
      "\u001b[0;31mNameError\u001b[0m                                 Traceback (most recent call last)",
      "\u001b[0;32m<ipython-input-10-ed5cb69e8554>\u001b[0m in \u001b[0;36m<module>\u001b[0;34m()\u001b[0m\n\u001b[1;32m      6\u001b[0m \u001b[0;34m\u001b[0m\u001b[0m\n\u001b[1;32m      7\u001b[0m \u001b[0;31m# Open the plain text file whose name is in textfile for reading.\u001b[0m\u001b[0;34m\u001b[0m\u001b[0;34m\u001b[0m\u001b[0m\n\u001b[0;32m----> 8\u001b[0;31m \u001b[0;32mwith\u001b[0m \u001b[0mopen\u001b[0m\u001b[0;34m(\u001b[0m\u001b[0mtextfile\u001b[0m\u001b[0;34m)\u001b[0m \u001b[0;32mas\u001b[0m \u001b[0mfp\u001b[0m\u001b[0;34m:\u001b[0m\u001b[0;34m\u001b[0m\u001b[0m\n\u001b[0m\u001b[1;32m      9\u001b[0m     \u001b[0;31m# Create a text/plain message\u001b[0m\u001b[0;34m\u001b[0m\u001b[0;34m\u001b[0m\u001b[0m\n\u001b[1;32m     10\u001b[0m     \u001b[0mmsg\u001b[0m \u001b[0;34m=\u001b[0m \u001b[0mEmailMessage\u001b[0m\u001b[0;34m(\u001b[0m\u001b[0;34m)\u001b[0m\u001b[0;34m\u001b[0m\u001b[0m\n",
      "\u001b[0;31mNameError\u001b[0m: name 'textfile' is not defined"
     ]
    }
   ],
   "source": [
    "# Import smtplib for the actual sending function\n",
    "import smtplib\n",
    "\n",
    "# Import the email modules we'll need\n",
    "from email.message import EmailMessage\n",
    "\n",
    "# Open the plain text file whose name is in textfile for reading.\n",
    "with open(textfile) as fp:\n",
    "    # Create a text/plain message\n",
    "    msg = EmailMessage()\n",
    "    msg.set_content(fp.read())\n",
    "\n",
    "me == sannahziama@gmail.com\n",
    "you == spziama@gmail.com\n",
    "msg['Subject'] = 'The contents of %s' % textfile\n",
    "msg['From'] = me\n",
    "msg['To'] = you\n",
    "\n",
    "# Send the message via our own SMTP server.\n",
    "s = smtplib.SMTP('localhost')\n",
    "s.send_message(msg)\n",
    "s.quit()"
   ]
  },
  {
   "cell_type": "code",
   "execution_count": 92,
   "metadata": {
    "collapsed": true,
    "deletable": true,
    "editable": true
   },
   "outputs": [],
   "source": [
    "#!/usr/bin/env python\n",
    "# encoding: utf-8\n",
    "\"\"\"\n",
    "Mailer.py\n",
    "Created by Robert Dempsey on 11/07/14.\n",
    "Copyright (c) 2014 Robert Dempsey. All rights reserved.\n",
    "\"\"\"\n",
    "\n",
    "import sys\n",
    "import os\n",
    "import smtplib\n",
    "from email import encoders\n",
    "from email.mime.base import MIMEBase\n",
    "from email.mime.multipart import MIMEMultipart\n",
    "from email.mime.text import MIMEText\n",
    "\n",
    "COMMASPACE = ', '\n",
    "\n",
    "class Mailer:\n",
    "    def __init__(self, **kwargs):\n",
    "        self.properties = kwargs\n",
    "\n",
    "    # Subject\n",
    "    @property\n",
    "    def subject(self):\n",
    "        return self.properties.get('subject', 'None')\n",
    "\n",
    "    @subject.setter\n",
    "    def subject(self, s):\n",
    "        self.properties['subject'] = s\n",
    "\n",
    "    @subject.deleter\n",
    "    def subject(self):\n",
    "        del self.properties['subject']\n",
    "\n",
    "    # Recipients\n",
    "    @property\n",
    "    def recipients(self):\n",
    "        return self.properties.get('recipients', 'None')\n",
    "\n",
    "    @recipients.setter\n",
    "    def recipients(self, r):\n",
    "        self.properties['recipients'] = r\n",
    "\n",
    "    @recipients.deleter\n",
    "    def recipients(self):\n",
    "        del self.properties['recipients']\n",
    "\n",
    "    # Send From\n",
    "    @property\n",
    "    def send_from(self):\n",
    "        return self.properties.get('send_from', 'None')\n",
    "\n",
    "    @send_from.setter\n",
    "    def send_from(self, s_from):\n",
    "        self.properties['send_from'] = s_from\n",
    "\n",
    "    @send_from.deleter\n",
    "    def send_from(self):\n",
    "        del self.properties['send_from']\n",
    "\n",
    "    # Gmail Password\n",
    "    @property\n",
    "    def gmail_password(self):\n",
    "        return self.properties.get('gmail_password', 'None')\n",
    "\n",
    "    @gmail_password.setter\n",
    "    def gmail_password(self, g_pass):\n",
    "        self.properties['gmail_password'] = g_pass\n",
    "\n",
    "    @gmail_password.deleter\n",
    "    def gmail_password(self):\n",
    "        del self.properties['gmail_password']\n",
    "\n",
    "    # Message\n",
    "    @property\n",
    "    def message(self):\n",
    "        return self.properties.get('message', 'None')\n",
    "\n",
    "    @message.setter\n",
    "    def message(self, m):\n",
    "        self.properties['message'] = m\n",
    "\n",
    "    @message.deleter\n",
    "    def message(self):\n",
    "        del self.properties['message']\n",
    "\n",
    "    # Attachments\n",
    "    @property\n",
    "    def attachments(self):\n",
    "        return self.properties.get('attachments', 'None')\n",
    "\n",
    "    @attachments.setter\n",
    "    def attachments(self, a):\n",
    "        self.properties['attachments'] = a\n",
    "\n",
    "    @attachments.deleter\n",
    "    def attachments(self):\n",
    "        del self.properties['attachments']\n",
    "\n",
    "    def send_email(self):\n",
    "        # Create the enclosing (outer) message\n",
    "        outer = MIMEMultipart('alternative')\n",
    "        outer['Subject'] = self.subject\n",
    "        outer['To'] = COMMASPACE.join(self.recipients)\n",
    "        outer['From'] = self.send_from\n",
    "\n",
    "        msg = MIMEBase('application', \"octet-stream\")\n",
    "\n",
    "        # Add the text of the email\n",
    "        email_body = MIMEText(self.message, 'plain')\n",
    "        outer.attach(email_body)\n",
    "\n",
    "        # Add the attachments\n",
    "        if self.attachments != 'None':\n",
    "            for file in self.attachments:\n",
    "                try:\n",
    "                    with open(file, 'rb') as fp:\n",
    "                        msg.set_payload(fp.read())\n",
    "                    encoders.encode_base64(msg)\n",
    "                    msg.add_header('Content-Disposition', 'attachment', filename=os.path.basename(file))\n",
    "                    outer.attach(msg)\n",
    "                except:\n",
    "                    print(\"Unable to open one of the attachments. Error: \", sys.exc_info()[0])\n",
    "                    raise\n",
    "\n",
    "        composed = outer.as_string()\n",
    "\n",
    "        try:\n",
    "            with smtplib.SMTP('smtp.gmail.com', 587) as s:\n",
    "                s.ehlo()\n",
    "                s.starttls()\n",
    "                s.ehlo()\n",
    "                s.login(self.send_from, self.gmail_password)\n",
    "                s.sendmail(self.send_from, self.recipients, composed)\n",
    "                s.close()\n",
    "            print(\"Email sent!\")\n",
    "        except:\n",
    "            print(\"Unable to send the email. Error: \", sys.exc_info()[0])\n",
    "            raise\n",
    "\n",
    "def main():\n",
    "    pass\n",
    "\n",
    "if __name__ == '__main__': main()"
   ]
  },
  {
   "cell_type": "code",
   "execution_count": 105,
   "metadata": {
    "collapsed": true,
    "deletable": true,
    "editable": true
   },
   "outputs": [],
   "source": [
    "msg = Mailer()"
   ]
  },
  {
   "cell_type": "code",
   "execution_count": 106,
   "metadata": {
    "collapsed": true,
    "deletable": true,
    "editable": true
   },
   "outputs": [],
   "source": [
    "subjt = 'Test'\n",
    "messg = 'Hi, this is a test'\n",
    "recipients = \"sannahziama@gmail.com\"\n",
    "frm = \"sannahziama@gmail.com\"\n",
    "pword = \"\"\n"
   ]
  },
  {
   "cell_type": "code",
   "execution_count": 107,
   "metadata": {
    "collapsed": false,
    "deletable": true,
    "editable": true
   },
   "outputs": [],
   "source": [
    "msg.subject = subjt\n",
    "msg.message = messg\n",
    "msg.send_from = frm\n",
    "msg.recipients = recipients"
   ]
  },
  {
   "cell_type": "code",
   "execution_count": 110,
   "metadata": {
    "collapsed": false,
    "deletable": true,
    "editable": true
   },
   "outputs": [
    {
     "name": "stdout",
     "output_type": "stream",
     "text": [
      "Unable to send the email. Error:  <class 'smtplib.SMTPAuthenticationError'>\n"
     ]
    },
    {
     "ename": "SMTPAuthenticationError",
     "evalue": "(535, b'5.7.8 Username and Password not accepted. Learn more at\\n5.7.8  https://support.google.com/mail/?p=BadCredentials t127sm5521318pfd.118 - gsmtp')",
     "output_type": "error",
     "traceback": [
      "\u001b[0;31m---------------------------------------------------------------------------\u001b[0m",
      "\u001b[0;31mSMTPAuthenticationError\u001b[0m                   Traceback (most recent call last)",
      "\u001b[0;32m<ipython-input-110-4ab33a905bf5>\u001b[0m in \u001b[0;36m<module>\u001b[0;34m()\u001b[0m\n\u001b[0;32m----> 1\u001b[0;31m \u001b[0mmsg\u001b[0m\u001b[0;34m.\u001b[0m\u001b[0msend_email\u001b[0m\u001b[0;34m(\u001b[0m\u001b[0;34m)\u001b[0m\u001b[0;34m\u001b[0m\u001b[0m\n\u001b[0m",
      "\u001b[0;32m<ipython-input-92-fa9d803cf25a>\u001b[0m in \u001b[0;36msend_email\u001b[0;34m(self)\u001b[0m\n\u001b[1;32m    132\u001b[0m                 \u001b[0ms\u001b[0m\u001b[0;34m.\u001b[0m\u001b[0mstarttls\u001b[0m\u001b[0;34m(\u001b[0m\u001b[0;34m)\u001b[0m\u001b[0;34m\u001b[0m\u001b[0m\n\u001b[1;32m    133\u001b[0m                 \u001b[0ms\u001b[0m\u001b[0;34m.\u001b[0m\u001b[0mehlo\u001b[0m\u001b[0;34m(\u001b[0m\u001b[0;34m)\u001b[0m\u001b[0;34m\u001b[0m\u001b[0m\n\u001b[0;32m--> 134\u001b[0;31m                 \u001b[0ms\u001b[0m\u001b[0;34m.\u001b[0m\u001b[0mlogin\u001b[0m\u001b[0;34m(\u001b[0m\u001b[0mself\u001b[0m\u001b[0;34m.\u001b[0m\u001b[0msend_from\u001b[0m\u001b[0;34m,\u001b[0m \u001b[0mself\u001b[0m\u001b[0;34m.\u001b[0m\u001b[0mgmail_password\u001b[0m\u001b[0;34m)\u001b[0m\u001b[0;34m\u001b[0m\u001b[0m\n\u001b[0m\u001b[1;32m    135\u001b[0m                 \u001b[0ms\u001b[0m\u001b[0;34m.\u001b[0m\u001b[0msendmail\u001b[0m\u001b[0;34m(\u001b[0m\u001b[0mself\u001b[0m\u001b[0;34m.\u001b[0m\u001b[0msend_from\u001b[0m\u001b[0;34m,\u001b[0m \u001b[0mself\u001b[0m\u001b[0;34m.\u001b[0m\u001b[0mrecipients\u001b[0m\u001b[0;34m,\u001b[0m \u001b[0mcomposed\u001b[0m\u001b[0;34m)\u001b[0m\u001b[0;34m\u001b[0m\u001b[0m\n\u001b[1;32m    136\u001b[0m                 \u001b[0ms\u001b[0m\u001b[0;34m.\u001b[0m\u001b[0mclose\u001b[0m\u001b[0;34m(\u001b[0m\u001b[0;34m)\u001b[0m\u001b[0;34m\u001b[0m\u001b[0m\n",
      "\u001b[0;32m/usr/local/Cellar/python3/3.6.0/Frameworks/Python.framework/Versions/3.6/lib/python3.6/smtplib.py\u001b[0m in \u001b[0;36mlogin\u001b[0;34m(self, user, password, initial_response_ok)\u001b[0m\n\u001b[1;32m    727\u001b[0m \u001b[0;34m\u001b[0m\u001b[0m\n\u001b[1;32m    728\u001b[0m         \u001b[0;31m# We could not login successfully.  Return result of last attempt.\u001b[0m\u001b[0;34m\u001b[0m\u001b[0;34m\u001b[0m\u001b[0m\n\u001b[0;32m--> 729\u001b[0;31m         \u001b[0;32mraise\u001b[0m \u001b[0mlast_exception\u001b[0m\u001b[0;34m\u001b[0m\u001b[0m\n\u001b[0m\u001b[1;32m    730\u001b[0m \u001b[0;34m\u001b[0m\u001b[0m\n\u001b[1;32m    731\u001b[0m     \u001b[0;32mdef\u001b[0m \u001b[0mstarttls\u001b[0m\u001b[0;34m(\u001b[0m\u001b[0mself\u001b[0m\u001b[0;34m,\u001b[0m \u001b[0mkeyfile\u001b[0m\u001b[0;34m=\u001b[0m\u001b[0;32mNone\u001b[0m\u001b[0;34m,\u001b[0m \u001b[0mcertfile\u001b[0m\u001b[0;34m=\u001b[0m\u001b[0;32mNone\u001b[0m\u001b[0;34m,\u001b[0m \u001b[0mcontext\u001b[0m\u001b[0;34m=\u001b[0m\u001b[0;32mNone\u001b[0m\u001b[0;34m)\u001b[0m\u001b[0;34m:\u001b[0m\u001b[0;34m\u001b[0m\u001b[0m\n",
      "\u001b[0;32m/usr/local/Cellar/python3/3.6.0/Frameworks/Python.framework/Versions/3.6/lib/python3.6/smtplib.py\u001b[0m in \u001b[0;36mlogin\u001b[0;34m(self, user, password, initial_response_ok)\u001b[0m\n\u001b[1;32m    718\u001b[0m                 (code, resp) = self.auth(\n\u001b[1;32m    719\u001b[0m                     \u001b[0mauthmethod\u001b[0m\u001b[0;34m,\u001b[0m \u001b[0mgetattr\u001b[0m\u001b[0;34m(\u001b[0m\u001b[0mself\u001b[0m\u001b[0;34m,\u001b[0m \u001b[0mmethod_name\u001b[0m\u001b[0;34m)\u001b[0m\u001b[0;34m,\u001b[0m\u001b[0;34m\u001b[0m\u001b[0m\n\u001b[0;32m--> 720\u001b[0;31m                     initial_response_ok=initial_response_ok)\n\u001b[0m\u001b[1;32m    721\u001b[0m                 \u001b[0;31m# 235 == 'Authentication successful'\u001b[0m\u001b[0;34m\u001b[0m\u001b[0;34m\u001b[0m\u001b[0m\n\u001b[1;32m    722\u001b[0m                 \u001b[0;31m# 503 == 'Error: already authenticated'\u001b[0m\u001b[0;34m\u001b[0m\u001b[0;34m\u001b[0m\u001b[0m\n",
      "\u001b[0;32m/usr/local/Cellar/python3/3.6.0/Frameworks/Python.framework/Versions/3.6/lib/python3.6/smtplib.py\u001b[0m in \u001b[0;36mauth\u001b[0;34m(self, mechanism, authobject, initial_response_ok)\u001b[0m\n\u001b[1;32m    639\u001b[0m         \u001b[0;32mif\u001b[0m \u001b[0mcode\u001b[0m \u001b[0;32min\u001b[0m \u001b[0;34m(\u001b[0m\u001b[0;36m235\u001b[0m\u001b[0;34m,\u001b[0m \u001b[0;36m503\u001b[0m\u001b[0;34m)\u001b[0m\u001b[0;34m:\u001b[0m\u001b[0;34m\u001b[0m\u001b[0m\n\u001b[1;32m    640\u001b[0m             \u001b[0;32mreturn\u001b[0m \u001b[0;34m(\u001b[0m\u001b[0mcode\u001b[0m\u001b[0;34m,\u001b[0m \u001b[0mresp\u001b[0m\u001b[0;34m)\u001b[0m\u001b[0;34m\u001b[0m\u001b[0m\n\u001b[0;32m--> 641\u001b[0;31m         \u001b[0;32mraise\u001b[0m \u001b[0mSMTPAuthenticationError\u001b[0m\u001b[0;34m(\u001b[0m\u001b[0mcode\u001b[0m\u001b[0;34m,\u001b[0m \u001b[0mresp\u001b[0m\u001b[0;34m)\u001b[0m\u001b[0;34m\u001b[0m\u001b[0m\n\u001b[0m\u001b[1;32m    642\u001b[0m \u001b[0;34m\u001b[0m\u001b[0m\n\u001b[1;32m    643\u001b[0m     \u001b[0;32mdef\u001b[0m \u001b[0mauth_cram_md5\u001b[0m\u001b[0;34m(\u001b[0m\u001b[0mself\u001b[0m\u001b[0;34m,\u001b[0m \u001b[0mchallenge\u001b[0m\u001b[0;34m=\u001b[0m\u001b[0;32mNone\u001b[0m\u001b[0;34m)\u001b[0m\u001b[0;34m:\u001b[0m\u001b[0;34m\u001b[0m\u001b[0m\n",
      "\u001b[0;31mSMTPAuthenticationError\u001b[0m: (535, b'5.7.8 Username and Password not accepted. Learn more at\\n5.7.8  https://support.google.com/mail/?p=BadCredentials t127sm5521318pfd.118 - gsmtp')"
     ]
    }
   ],
   "source": [
    "msg.send_email()"
   ]
  },
  {
   "cell_type": "code",
   "execution_count": null,
   "metadata": {
    "collapsed": true,
    "deletable": true,
    "editable": true
   },
   "outputs": [],
   "source": []
  }
 ],
 "metadata": {
  "kernelspec": {
   "display_name": "Python3 hands_on_ml",
   "language": "python",
   "name": "hands_on_ml"
  },
  "language_info": {
   "codemirror_mode": {
    "name": "ipython",
    "version": 3
   },
   "file_extension": ".py",
   "mimetype": "text/x-python",
   "name": "python",
   "nbconvert_exporter": "python",
   "pygments_lexer": "ipython3",
   "version": "3.6.0"
  }
 },
 "nbformat": 4,
 "nbformat_minor": 2
}
