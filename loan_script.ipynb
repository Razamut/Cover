{
 "cells": [
  {
   "cell_type": "code",
   "execution_count": 156,
   "metadata": {
    "collapsed": false
   },
   "outputs": [],
   "source": [
    "import numpy as np\n",
    "import openpyxl\n",
    "from pandas import DataFrame, read_csv, merge\n",
    "import matplotlib.pyplot as plt\n",
    "%matplotlib inline"
   ]
  },
  {
   "cell_type": "code",
   "execution_count": 147,
   "metadata": {
    "collapsed": false
   },
   "outputs": [],
   "source": [
    "loan_df = read_csv(\"loan.csv\")\n",
    "\n",
    "loan_df[\"loan_type\"] = [val.lower().strip() if isinstance(val, str) else val \n",
    "                        for val in loan_df.loan_type ]"
   ]
  },
  {
   "cell_type": "code",
   "execution_count": 148,
   "metadata": {
    "collapsed": false
   },
   "outputs": [],
   "source": [
    "# get approved loans\n",
    "\n",
    "appr = loan_df.loc[loan_df.status == 'approved']\n",
    "appr.index = range(appr.shape[0])\n",
    "\n",
    "# get Liberian dollar loans\n",
    "\n",
    "ld_loan = DataFrame( appr.loc[~appr.loan_amt_ld.isnull()] )\n",
    "ld_loan[\"loan_amt_ld\"] = [float(num) for num in ld_loan[\"loan_amt_ld\"]]\n",
    "ld_loan.index = range(ld_loan.shape[0])\n",
    "\n",
    "# get US dollar loans\n",
    "\n",
    "usd_loan = DataFrame( appr.loc[~appr.loan_amt_usd.isnull()] )\n",
    "usd_loan[\"loan_amt_usd\"] = [float(num) for num in usd_loan[\"loan_amt_usd\"]]\n",
    "usd_loan.index = range(usd_loan.shape[0])"
   ]
  },
  {
   "cell_type": "code",
   "execution_count": 149,
   "metadata": {
    "collapsed": false,
    "deletable": true,
    "editable": true
   },
   "outputs": [],
   "source": [
    "# get stats by loan_type\n",
    "\n",
    "ld_ln_grp = ld_loan.groupby(\"loan_type\", as_index=False).agg({\"loan_id\": \"count\", \n",
    "                                                              \"loan_amt_ld\": \"sum\"})\n",
    "ld_ln_grp = ld_ln_grp.rename(columns = {\"loan_id\": \"num_ld_loans\"})\n",
    "\n",
    "usd_ln_grp = usd_loan.groupby(\"loan_type\", as_index=False).agg({\"loan_id\": \"count\", \n",
    "                                                               \"loan_amt_usd\": \"sum\"})\n",
    "usd_ln_grp = usd_ln_grp.rename(columns = {\"loan_id\": \"num_usd_loans\"})\n",
    "\n",
    "# merge groups\n",
    "\n",
    "merged_ln_grps = merge(ld_ln_grp, usd_ln_grp, on=\"loan_type\", how=\"outer\")\n",
    "\n",
    "# add total row\n",
    "\n",
    "row = merged_ln_grps.values.sum(axis=0)\n",
    "row[0] = \"total\"\n",
    "\n",
    "merged_ln_grps.loc[-1] = row\n",
    "merged_ln_grps.index = range(merged_ln_grps.shape[0])"
   ]
  },
  {
   "cell_type": "code",
   "execution_count": 150,
   "metadata": {
    "collapsed": false
   },
   "outputs": [
    {
     "data": {
      "text/html": [
       "<div>\n",
       "<style>\n",
       "    .dataframe thead tr:only-child th {\n",
       "        text-align: right;\n",
       "    }\n",
       "\n",
       "    .dataframe thead th {\n",
       "        text-align: left;\n",
       "    }\n",
       "\n",
       "    .dataframe tbody tr th {\n",
       "        vertical-align: top;\n",
       "    }\n",
       "</style>\n",
       "<table border=\"1\" class=\"dataframe\">\n",
       "  <thead>\n",
       "    <tr style=\"text-align: right;\">\n",
       "      <th></th>\n",
       "      <th>loan_type</th>\n",
       "      <th>num_ld_loans</th>\n",
       "      <th>loan_amt_ld</th>\n",
       "      <th>num_usd_loans</th>\n",
       "      <th>loan_amt_usd</th>\n",
       "    </tr>\n",
       "  </thead>\n",
       "  <tbody>\n",
       "    <tr>\n",
       "      <th>0</th>\n",
       "      <td>business</td>\n",
       "      <td>7</td>\n",
       "      <td>138000.0</td>\n",
       "      <td>2</td>\n",
       "      <td>400.0</td>\n",
       "    </tr>\n",
       "    <tr>\n",
       "      <th>1</th>\n",
       "      <td>personal</td>\n",
       "      <td>2</td>\n",
       "      <td>17250.0</td>\n",
       "      <td>4</td>\n",
       "      <td>500.0</td>\n",
       "    </tr>\n",
       "    <tr>\n",
       "      <th>2</th>\n",
       "      <td>total</td>\n",
       "      <td>9</td>\n",
       "      <td>155250.0</td>\n",
       "      <td>6</td>\n",
       "      <td>900.0</td>\n",
       "    </tr>\n",
       "  </tbody>\n",
       "</table>\n",
       "</div>"
      ],
      "text/plain": [
       "  loan_type  num_ld_loans  loan_amt_ld  num_usd_loans  loan_amt_usd\n",
       "0  business             7     138000.0              2         400.0\n",
       "1  personal             2      17250.0              4         500.0\n",
       "2     total             9     155250.0              6         900.0"
      ]
     },
     "execution_count": 150,
     "metadata": {},
     "output_type": "execute_result"
    }
   ],
   "source": [
    "merged_ln_grps"
   ]
  },
  {
   "cell_type": "code",
   "execution_count": 151,
   "metadata": {
    "collapsed": false
   },
   "outputs": [
    {
     "data": {
      "text/plain": [
       "2750.0"
      ]
     },
     "execution_count": 151,
     "metadata": {},
     "output_type": "execute_result"
    }
   ],
   "source": [
    "5000 - ( (155250.0 / 115 ) + 900.0)"
   ]
  },
  {
   "cell_type": "code",
   "execution_count": 152,
   "metadata": {
    "collapsed": true
   },
   "outputs": [],
   "source": [
    "merged_ln_grps.to_csv(\"weekly_loan_summary.csv\", header=True, index=False)"
   ]
  },
  {
   "cell_type": "code",
   "execution_count": 159,
   "metadata": {
    "collapsed": false
   },
   "outputs": [],
   "source": [
    "merged_ln_grps.to_excel(\"weekly_loan_summary.xlsx\", index=False)"
   ]
  },
  {
   "cell_type": "code",
   "execution_count": 181,
   "metadata": {
    "collapsed": true
   },
   "outputs": [],
   "source": [
    "import smtplib\n",
    "# import email.mime as mime\n",
    "\n",
    "from email.mime.message import MIMEMessage, message\n",
    "# Import the email modules we'll need\n",
    "from email.mime.text import MIMEText\n"
   ]
  },
  {
   "cell_type": "code",
   "execution_count": null,
   "metadata": {
    "collapsed": true
   },
   "outputs": [],
   "source": []
  }
 ],
 "metadata": {
  "kernelspec": {
   "display_name": "Python3 hands_on_ml",
   "language": "python",
   "name": "hands_on_ml"
  },
  "language_info": {
   "codemirror_mode": {
    "name": "ipython",
    "version": 3
   },
   "file_extension": ".py",
   "mimetype": "text/x-python",
   "name": "python",
   "nbconvert_exporter": "python",
   "pygments_lexer": "ipython3",
   "version": "3.6.0"
  }
 },
 "nbformat": 4,
 "nbformat_minor": 2
}
